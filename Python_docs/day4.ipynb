{
 "cells": [
  {
   "cell_type": "code",
   "execution_count": 1,
   "id": "aa2fe2cd",
   "metadata": {},
   "outputs": [
    {
     "name": "stdout",
     "output_type": "stream",
     "text": [
      "Stack after pushes: [1, 2, 3]\n",
      "Popped element: 3\n",
      "Stack now: [1, 2]\n"
     ]
    }
   ],
   "source": [
    "# Day 4: Data Structures and Algorithms\n",
    "# --------------------------------------\n",
    "\n",
    "# 1. Stacks using Lists\n",
    "stack = []\n",
    "stack.append(1)\n",
    "stack.append(2)\n",
    "stack.append(3)\n",
    "print(\"Stack after pushes:\", stack)\n",
    "print(\"Popped element:\", stack.pop())\n",
    "print(\"Stack now:\", stack)"
   ]
  },
  {
   "cell_type": "code",
   "execution_count": 2,
   "id": "13b3485a",
   "metadata": {},
   "outputs": [
    {
     "name": "stdout",
     "output_type": "stream",
     "text": [
      "Top element: 2\n"
     ]
    }
   ],
   "source": [
    "# Check top element\n",
    "print(\"Top element:\", stack[-1])\n"
   ]
  },
  {
   "cell_type": "code",
   "execution_count": 3,
   "id": "d5e6bc3c",
   "metadata": {},
   "outputs": [
    {
     "name": "stdout",
     "output_type": "stream",
     "text": [
      "Queue after enqueues: ['A', 'B', 'C']\n",
      "Dequeued: A\n",
      "Queue now: ['B', 'C']\n"
     ]
    }
   ],
   "source": [
    "# 2. Queues using Lists\n",
    "queue = []\n",
    "queue.append(\"A\")\n",
    "queue.append(\"B\")\n",
    "queue.append(\"C\")\n",
    "print(\"Queue after enqueues:\", queue)\n",
    "print(\"Dequeued:\", queue.pop(0))\n",
    "print(\"Queue now:\", queue)"
   ]
  },
  {
   "cell_type": "code",
   "execution_count": 4,
   "id": "f20849d1",
   "metadata": {},
   "outputs": [
    {
     "name": "stdout",
     "output_type": "stream",
     "text": [
      "Deque: deque([0, 1, 2])\n",
      "Pop right: 2\n",
      "Pop left: 0\n"
     ]
    }
   ],
   "source": [
    "# 3. Deque (Double-ended Queue) using collections\n",
    "from collections import deque\n",
    "\n",
    "d = deque()\n",
    "d.append(1)\n",
    "d.appendleft(0)\n",
    "d.append(2)\n",
    "print(\"Deque:\", d)\n",
    "print(\"Pop right:\", d.pop())\n",
    "print(\"Pop left:\", d.popleft())\n"
   ]
  },
  {
   "cell_type": "code",
   "execution_count": 5,
   "id": "8b86e730",
   "metadata": {},
   "outputs": [
    {
     "name": "stdout",
     "output_type": "stream",
     "text": [
      "10 -> 20 -> 30 -> None\n"
     ]
    }
   ],
   "source": [
    "# 4. Singly Linked List (basic)\n",
    "class Node:\n",
    "    def __init__(self, data):\n",
    "        self.data = data\n",
    "        self.next = None\n",
    "\n",
    "class LinkedList:\n",
    "    def __init__(self):\n",
    "        self.head = None\n",
    "\n",
    "    def append(self, data):\n",
    "        new_node = Node(data)\n",
    "        if not self.head:\n",
    "            self.head = new_node\n",
    "            return\n",
    "        current = self.head\n",
    "        while current.next:\n",
    "            current = current.next\n",
    "        current.next = new_node\n",
    "\n",
    "    def display(self):\n",
    "        current = self.head\n",
    "        while current:\n",
    "            print(current.data, end=\" -> \")\n",
    "            current = current.next\n",
    "        print(\"None\")\n",
    "\n",
    "ll = LinkedList()\n",
    "ll.append(10)\n",
    "ll.append(20)\n",
    "ll.append(30)\n",
    "ll.display()\n"
   ]
  },
  {
   "cell_type": "code",
   "execution_count": 6,
   "id": "82006ad8",
   "metadata": {},
   "outputs": [
    {
     "name": "stdout",
     "output_type": "stream",
     "text": [
      "Found at index: 2\n"
     ]
    }
   ],
   "source": [
    "# 5. Linear Search\n",
    "def linear_search(arr, target):\n",
    "    for i in range(len(arr)):\n",
    "        if arr[i] == target:\n",
    "            return i\n",
    "    return -1\n",
    "\n",
    "arr = [10, 20, 30, 40]\n",
    "print(\"Found at index:\", linear_search(arr, 30))"
   ]
  },
  {
   "cell_type": "code",
   "execution_count": 7,
   "id": "b6acbf2a",
   "metadata": {},
   "outputs": [
    {
     "name": "stdout",
     "output_type": "stream",
     "text": [
      "Binary Search Index: 2\n"
     ]
    }
   ],
   "source": [
    "# 6. Binary Search (only works on sorted arrays)\n",
    "def binary_search(arr, target):\n",
    "    low, high = 0, len(arr) - 1\n",
    "    while low <= high:\n",
    "        mid = (low + high) // 2\n",
    "        if arr[mid] == target:\n",
    "            return mid\n",
    "        elif arr[mid] < target:\n",
    "            low = mid + 1\n",
    "        else:\n",
    "            high = mid - 1\n",
    "    return -1\n",
    "\n",
    "sorted_arr = [5, 10, 15, 20, 25]\n",
    "print(\"Binary Search Index:\", binary_search(sorted_arr, 15))\n"
   ]
  },
  {
   "cell_type": "code",
   "execution_count": 8,
   "id": "0659478d",
   "metadata": {},
   "outputs": [
    {
     "name": "stdout",
     "output_type": "stream",
     "text": [
      "Sorted list: [11, 12, 22, 25, 34, 64, 90]\n"
     ]
    }
   ],
   "source": [
    "# 7. Bubble Sort\n",
    "def bubble_sort(arr):\n",
    "    n = len(arr)\n",
    "    for i in range(n):\n",
    "        for j in range(0, n - i - 1):\n",
    "            if arr[j] > arr[j + 1]:\n",
    "                arr[j], arr[j + 1] = arr[j + 1], arr[j]\n",
    "\n",
    "nums = [64, 34, 25, 12, 22, 11, 90]\n",
    "bubble_sort(nums)\n",
    "print(\"Sorted list:\", nums)"
   ]
  },
  {
   "cell_type": "code",
   "execution_count": 9,
   "id": "8bf9cb07",
   "metadata": {},
   "outputs": [
    {
     "name": "stdout",
     "output_type": "stream",
     "text": [
      "Optimized Bubble Sorted: [1, 2, 3, 4, 5]\n"
     ]
    }
   ],
   "source": [
    "# 8. Optimized Bubble Sort (early stop)\n",
    "def optimized_bubble_sort(arr):\n",
    "    n = len(arr)\n",
    "    for i in range(n):\n",
    "        swapped = False\n",
    "        for j in range(0, n - i - 1):\n",
    "            if arr[j] > arr[j + 1]:\n",
    "                arr[j], arr[j + 1] = arr[j + 1], arr[j]\n",
    "                swapped = True\n",
    "        if not swapped:\n",
    "            break\n",
    "\n",
    "nums2 = [3, 2, 1, 4, 5]\n",
    "optimized_bubble_sort(nums2)\n",
    "print(\"Optimized Bubble Sorted:\", nums2)"
   ]
  },
  {
   "cell_type": "code",
   "execution_count": 10,
   "id": "764ac878",
   "metadata": {},
   "outputs": [
    {
     "name": "stdout",
     "output_type": "stream",
     "text": [
      "Insertion Sorted: [1, 3, 4, 5, 9]\n"
     ]
    }
   ],
   "source": [
    "# 9. Insertion Sort\n",
    "def insertion_sort(arr):\n",
    "    for i in range(1, len(arr)):\n",
    "        key = arr[i]\n",
    "        j = i - 1\n",
    "        while j >= 0 and key < arr[j]:\n",
    "            arr[j + 1] = arr[j]\n",
    "            j -= 1\n",
    "        arr[j + 1] = key\n",
    "\n",
    "arr = [9, 5, 1, 4, 3]\n",
    "insertion_sort(arr)\n",
    "print(\"Insertion Sorted:\", arr)"
   ]
  },
  {
   "cell_type": "code",
   "execution_count": 11,
   "id": "252a5ff0",
   "metadata": {},
   "outputs": [
    {
     "name": "stdout",
     "output_type": "stream",
     "text": [
      "Selection Sorted: [11, 12, 22, 25, 64]\n"
     ]
    }
   ],
   "source": [
    "# 10. Selection Sort\n",
    "def selection_sort(arr):\n",
    "    for i in range(len(arr)):\n",
    "        min_idx = i\n",
    "        for j in range(i+1, len(arr)):\n",
    "            if arr[j] < arr[min_idx]:\n",
    "                min_idx = j\n",
    "        arr[i], arr[min_idx] = arr[min_idx], arr[i]\n",
    "\n",
    "arr = [64, 25, 12, 22, 11]\n",
    "selection_sort(arr)\n",
    "print(\"Selection Sorted:\", arr)"
   ]
  },
  {
   "cell_type": "code",
   "execution_count": 12,
   "id": "4aab2922",
   "metadata": {},
   "outputs": [
    {
     "name": "stdout",
     "output_type": "stream",
     "text": [
      "1 <-> 2 <-> 3 <-> None\n",
      "3 <-> 2 <-> 1 <-> None\n"
     ]
    }
   ],
   "source": [
    "#  Doubly Linked List (basic)\n",
    "class DNode:\n",
    "    def __init__(self, data):\n",
    "        self.data = data\n",
    "        self.prev = None\n",
    "        self.next = None\n",
    "\n",
    "class DoublyLinkedList:\n",
    "    def __init__(self):\n",
    "        self.head = None\n",
    "\n",
    "    def append(self, data):\n",
    "        new_node = DNode(data)\n",
    "        if not self.head:\n",
    "            self.head = new_node\n",
    "            return\n",
    "        current = self.head\n",
    "        while current.next:\n",
    "            current = current.next\n",
    "        current.next = new_node\n",
    "        new_node.prev = current\n",
    "\n",
    "    def display_forward(self):\n",
    "        current = self.head\n",
    "        while current:\n",
    "            print(current.data, end=\" <-> \")\n",
    "            last = current\n",
    "            current = current.next\n",
    "        print(\"None\")\n",
    "\n",
    "    def display_backward(self):\n",
    "        current = self.head\n",
    "        while current and current.next:\n",
    "            current = current.next\n",
    "        while current:\n",
    "            print(current.data, end=\" <-> \")\n",
    "            current = current.prev\n",
    "        print(\"None\")\n",
    "\n",
    "dll = DoublyLinkedList()\n",
    "dll.append(1)\n",
    "dll.append(2)\n",
    "dll.append(3)\n",
    "dll.display_forward()\n",
    "dll.display_backward()"
   ]
  },
  {
   "cell_type": "code",
   "execution_count": null,
   "id": "0abaf62f",
   "metadata": {},
   "outputs": [],
   "source": []
  }
 ],
 "metadata": {
  "kernelspec": {
   "display_name": "rag_venv",
   "language": "python",
   "name": "python3"
  },
  "language_info": {
   "codemirror_mode": {
    "name": "ipython",
    "version": 3
   },
   "file_extension": ".py",
   "mimetype": "text/x-python",
   "name": "python",
   "nbconvert_exporter": "python",
   "pygments_lexer": "ipython3",
   "version": "3.11.5"
  }
 },
 "nbformat": 4,
 "nbformat_minor": 5
}
