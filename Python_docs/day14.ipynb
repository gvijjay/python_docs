{
 "cells": [
  {
   "cell_type": "code",
   "execution_count": 1,
   "id": "7faacd03",
   "metadata": {},
   "outputs": [
    {
     "name": "stdout",
     "output_type": "stream",
     "text": [
      "Tensor a: tensor([1, 2, 3])\n",
      "Tensor d (a+5): tensor([6, 7, 8])\n",
      "Matrix multiplication result (b x rand): tensor([[1.6820, 0.4329, 0.9491, 1.0422],\n",
      "        [1.6820, 0.4329, 0.9491, 1.0422]])\n"
     ]
    }
   ],
   "source": [
    "#Basics of Pytorch tensors\n",
    "import torch\n",
    "\n",
    "# Creating tensors\n",
    "a = torch.tensor([1, 2, 3])\n",
    "b = torch.ones((2, 3))  # 2x3 tensor of ones\n",
    "c = torch.zeros_like(a)  # Tensor of zeros, same shape as a\n",
    "\n",
    "# Tensor operations\n",
    "d = a + 5\n",
    "e = b * 2\n",
    "f = torch.matmul(b, torch.randn(3, 4))  # Matrix multiplication\n",
    "\n",
    "print(\"Tensor a:\", a)\n",
    "print(\"Tensor d (a+5):\", d)\n",
    "print(\"Matrix multiplication result (b x rand):\", f)\n"
   ]
  },
  {
   "cell_type": "code",
   "execution_count": 3,
   "id": "4f67e877",
   "metadata": {},
   "outputs": [
    {
     "name": "stdout",
     "output_type": "stream",
     "text": [
      "Gradient at x=2: tensor([7.])\n"
     ]
    }
   ],
   "source": [
    "#Automatic Differentiation with torch.autograd\n",
    "import torch\n",
    "\n",
    "# Create tensor with gradient tracking\n",
    "x = torch.tensor([2.0], requires_grad=True)\n",
    "\n",
    "# Define a simple function: y = x^2 + 3x + 1\n",
    "y = x**2 + 3*x + 1\n",
    "\n",
    "# Compute gradient\n",
    "y.backward()\n",
    "\n",
    "# dy/dx = 2x + 3 => 2*2 + 3 = 7\n",
    "print(\"Gradient at x=2:\", x.grad)\n"
   ]
  },
  {
   "cell_type": "code",
   "execution_count": 4,
   "id": "ac6508c7",
   "metadata": {},
   "outputs": [],
   "source": [
    "# 3. Building Simple Neural Networks\n",
    "import torch\n",
    "import torch.nn as nn\n",
    "import torch.nn.functional as F"
   ]
  },
  {
   "cell_type": "code",
   "execution_count": 6,
   "id": "731487fa",
   "metadata": {},
   "outputs": [],
   "source": [
    " #Define a simple neural network\n",
    "class SimpleNN(nn.Module):\n",
    "    def __init__(self):\n",
    "        super(SimpleNN, self).__init__()\n",
    "        self.fc1 = nn.Linear(10, 5)  # input size 10, output size 5\n",
    "        self.fc2 = nn.Linear(5, 1)   # output layer\n",
    "\n",
    "    def forward(self, x):\n",
    "        x = F.relu(self.fc1(x))\n",
    "        x = self.fc2(x)\n",
    "        return x"
   ]
  },
  {
   "cell_type": "code",
   "execution_count": 7,
   "id": "8c49d83a",
   "metadata": {},
   "outputs": [],
   "source": [
    "# Create model and sample input\n",
    "model = SimpleNN()\n",
    "sample_input = torch.randn(1, 10)\n",
    "output = model(sample_input)"
   ]
  },
  {
   "cell_type": "code",
   "execution_count": 8,
   "id": "545db8f5",
   "metadata": {},
   "outputs": [
    {
     "name": "stdout",
     "output_type": "stream",
     "text": [
      "Output from simple NN: tensor([[-0.1318]], grad_fn=<AddmmBackward0>)\n"
     ]
    }
   ],
   "source": [
    "print(\"Output from simple NN:\", output)"
   ]
  },
  {
   "cell_type": "code",
   "execution_count": null,
   "id": "366a34bf",
   "metadata": {},
   "outputs": [],
   "source": []
  },
  {
   "cell_type": "markdown",
   "id": "6319b653",
   "metadata": {},
   "source": [
    "Task:\n",
    "\n",
    "Use sklearn.datasets.make_moons to create a binary classification dataset.\n",
    "\n",
    "Build a simple feedforward neural network.\n",
    "\n",
    "Train it using binary cross-entropy loss."
   ]
  },
  {
   "cell_type": "code",
   "execution_count": 9,
   "id": "b7e47153",
   "metadata": {},
   "outputs": [],
   "source": [
    "from sklearn.datasets import make_moons\n",
    "from sklearn.model_selection import train_test_split\n",
    "import torch.nn as nn\n",
    "import torch.optim as optim\n",
    "import matplotlib.pyplot as plt"
   ]
  },
  {
   "cell_type": "code",
   "execution_count": 10,
   "id": "e6bdfcba",
   "metadata": {},
   "outputs": [],
   "source": [
    "# Generate dataset\n",
    "X, y = make_moons(n_samples=1000, noise=0.2)\n",
    "X_train, X_test, y_train, y_test = train_test_split(X, y, test_size=0.2)"
   ]
  },
  {
   "cell_type": "code",
   "execution_count": 11,
   "id": "bf222a2e",
   "metadata": {},
   "outputs": [],
   "source": [
    "# Convert to tensors\n",
    "X_train = torch.tensor(X_train, dtype=torch.float32)\n",
    "y_train = torch.tensor(y_train, dtype=torch.float32).view(-1, 1)"
   ]
  },
  {
   "cell_type": "code",
   "execution_count": 12,
   "id": "91dfe559",
   "metadata": {},
   "outputs": [],
   "source": [
    "# Define model\n",
    "class SimpleBinaryClassifier(nn.Module):\n",
    "    def __init__(self):\n",
    "        super().__init__()\n",
    "        self.fc1 = nn.Linear(2, 8)\n",
    "        self.fc2 = nn.Linear(8, 1)\n",
    "\n",
    "    def forward(self, x):\n",
    "        x = torch.relu(self.fc1(x))\n",
    "        x = torch.sigmoid(self.fc2(x))\n",
    "        return x"
   ]
  },
  {
   "cell_type": "code",
   "execution_count": 13,
   "id": "ad5a397d",
   "metadata": {},
   "outputs": [],
   "source": [
    "model = SimpleBinaryClassifier()\n",
    "loss_fn = nn.BCELoss()\n",
    "optimizer = optim.Adam(model.parameters(), lr=0.01)\n"
   ]
  },
  {
   "cell_type": "code",
   "execution_count": 15,
   "id": "e766a0e6",
   "metadata": {},
   "outputs": [
    {
     "name": "stdout",
     "output_type": "stream",
     "text": [
      "Epoch 0: Loss = 0.5747\n",
      "Epoch 10: Loss = 0.5093\n",
      "Epoch 20: Loss = 0.4420\n",
      "Epoch 30: Loss = 0.3859\n",
      "Epoch 40: Loss = 0.3477\n",
      "Epoch 50: Loss = 0.3226\n",
      "Epoch 60: Loss = 0.3063\n",
      "Epoch 70: Loss = 0.2969\n",
      "Epoch 80: Loss = 0.2918\n",
      "Epoch 90: Loss = 0.2886\n"
     ]
    }
   ],
   "source": [
    "# Training loop\n",
    "for epoch in range(100):\n",
    "    y_pred = model(X_train)\n",
    "    loss = loss_fn(y_pred, y_train)\n",
    "\n",
    "    optimizer.zero_grad()\n",
    "    loss.backward()\n",
    "    optimizer.step()\n",
    "\n",
    "    if epoch % 10 == 0:\n",
    "        print(f\"Epoch {epoch}: Loss = {loss.item():.4f}\")"
   ]
  },
  {
   "cell_type": "code",
   "execution_count": null,
   "id": "b1066a87",
   "metadata": {},
   "outputs": [],
   "source": []
  }
 ],
 "metadata": {
  "kernelspec": {
   "display_name": "rag_venv",
   "language": "python",
   "name": "python3"
  },
  "language_info": {
   "codemirror_mode": {
    "name": "ipython",
    "version": 3
   },
   "file_extension": ".py",
   "mimetype": "text/x-python",
   "name": "python",
   "nbconvert_exporter": "python",
   "pygments_lexer": "ipython3",
   "version": "3.11.5"
  }
 },
 "nbformat": 4,
 "nbformat_minor": 5
}
