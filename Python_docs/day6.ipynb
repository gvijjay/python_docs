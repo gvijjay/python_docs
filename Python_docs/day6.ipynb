{
 "cells": [
  {
   "cell_type": "code",
   "execution_count": 1,
   "id": "b335b1dc",
   "metadata": {},
   "outputs": [
    {
     "name": "stdout",
     "output_type": "stream",
     "text": [
      "1D: [1 2 3]\n",
      "2D: [[1 2]\n",
      " [3 4]]\n"
     ]
    }
   ],
   "source": [
    "# Day 6: Introduction to NumPy\n",
    "# ----------------------------\n",
    "import numpy as np\n",
    "\n",
    "# 1. Creating Arrays\n",
    "arr1 = np.array([1, 2, 3])\n",
    "arr2 = np.array([[1, 2], [3, 4]])\n",
    "print(\"1D:\", arr1)\n",
    "print(\"2D:\", arr2)"
   ]
  },
  {
   "cell_type": "code",
   "execution_count": 2,
   "id": "c7ea25f1",
   "metadata": {},
   "outputs": [
    {
     "name": "stdout",
     "output_type": "stream",
     "text": [
      "Zeros: [[0. 0. 0.]\n",
      " [0. 0. 0.]]\n",
      "Ones: [1. 1. 1.]\n",
      "Empty: [[6.01347002e-154 1.64953213e+150]\n",
      " [8.70183202e+150 1.71437959e+161]]\n"
     ]
    }
   ],
   "source": [
    "# Create array with zeros/ones/empty\n",
    "z = np.zeros((2, 3))\n",
    "o = np.ones((3,))\n",
    "e = np.empty((2, 2))\n",
    "print(\"Zeros:\", z)\n",
    "print(\"Ones:\", o)\n",
    "print(\"Empty:\", e)"
   ]
  },
  {
   "cell_type": "code",
   "execution_count": 3,
   "id": "082c201f",
   "metadata": {},
   "outputs": [
    {
     "name": "stdout",
     "output_type": "stream",
     "text": [
      "Arange: [0 2 4 6 8]\n",
      "Linspace: [0.   0.25 0.5  0.75 1.  ]\n"
     ]
    }
   ],
   "source": [
    "# Range and linspace\n",
    "r = np.arange(0, 10, 2)\n",
    "l = np.linspace(0, 1, 5)\n",
    "print(\"Arange:\", r)\n",
    "print(\"Linspace:\", l)"
   ]
  },
  {
   "cell_type": "code",
   "execution_count": 4,
   "id": "81cf0bee",
   "metadata": {},
   "outputs": [
    {
     "name": "stdout",
     "output_type": "stream",
     "text": [
      "Identity matrix:\n",
      " [[1. 0. 0.]\n",
      " [0. 1. 0.]\n",
      " [0. 0. 1.]]\n"
     ]
    }
   ],
   "source": [
    "# Identity matrix\n",
    "i = np.eye(3)\n",
    "print(\"Identity matrix:\\n\", i)"
   ]
  },
  {
   "cell_type": "code",
   "execution_count": 5,
   "id": "95566a4b",
   "metadata": {},
   "outputs": [
    {
     "name": "stdout",
     "output_type": "stream",
     "text": [
      "Random: [[0.06079692 0.95349719 0.8651396 ]\n",
      " [0.69267061 0.38012063 0.22674754]]\n"
     ]
    }
   ],
   "source": [
    "# Random array\n",
    "rand_arr = np.random.rand(2, 3)\n",
    "print(\"Random:\", rand_arr)"
   ]
  },
  {
   "cell_type": "code",
   "execution_count": 6,
   "id": "f1a0c261",
   "metadata": {},
   "outputs": [
    {
     "name": "stdout",
     "output_type": "stream",
     "text": [
      "Shape: (2, 2)\n",
      "Size: 4\n",
      "Data type: int64\n"
     ]
    }
   ],
   "source": [
    "# 2. Array Attributes\n",
    "print(\"Shape:\", arr2.shape)\n",
    "print(\"Size:\", arr2.size)\n",
    "print(\"Data type:\", arr2.dtype)\n"
   ]
  },
  {
   "cell_type": "code",
   "execution_count": 7,
   "id": "36c91024",
   "metadata": {},
   "outputs": [
    {
     "name": "stdout",
     "output_type": "stream",
     "text": [
      "Element at 2nd index: 30\n",
      "Slice 1:4: [20 30 40]\n",
      "Element [1,2]: 6\n",
      "Row 0: [1 2 3]\n",
      "Col 1: [2 5]\n"
     ]
    }
   ],
   "source": [
    "# 3. Indexing and Slicing\n",
    "arr = np.array([10, 20, 30, 40, 50])\n",
    "print(\"Element at 2nd index:\", arr[2])\n",
    "print(\"Slice 1:4:\", arr[1:4])\n",
    "\n",
    "matrix = np.array([[1, 2, 3], [4, 5, 6]])\n",
    "print(\"Element [1,2]:\", matrix[1, 2])\n",
    "print(\"Row 0:\", matrix[0])\n",
    "print(\"Col 1:\", matrix[:, 1])"
   ]
  },
  {
   "cell_type": "code",
   "execution_count": 8,
   "id": "b48dd140",
   "metadata": {},
   "outputs": [
    {
     "name": "stdout",
     "output_type": "stream",
     "text": [
      "Reshaped:\n",
      " [[1 2 3]\n",
      " [4 5 6]]\n",
      "Flatten: [1 2 3 4 5 6]\n"
     ]
    }
   ],
   "source": [
    "# 4. Reshaping Arrays\n",
    "flat = np.array([1, 2, 3, 4, 5, 6])\n",
    "reshaped = flat.reshape((2, 3))\n",
    "print(\"Reshaped:\\n\", reshaped)\n",
    "\n",
    "# Flatten a matrix\n",
    "print(\"Flatten:\", reshaped.flatten())"
   ]
  },
  {
   "cell_type": "code",
   "execution_count": 9,
   "id": "78e439fa",
   "metadata": {},
   "outputs": [
    {
     "name": "stdout",
     "output_type": "stream",
     "text": [
      "Add: [5 7 9]\n",
      "Multiply: [ 4 10 18]\n",
      "Square: [1 4 9]\n",
      "Comparison: [False  True  True]\n"
     ]
    }
   ],
   "source": [
    "# 5. Basic Operations\n",
    "x = np.array([1, 2, 3])\n",
    "y = np.array([4, 5, 6])\n",
    "print(\"Add:\", x + y)\n",
    "print(\"Multiply:\", x * y)\n",
    "print(\"Square:\", x ** 2)\n",
    "print(\"Comparison:\", x > 1)"
   ]
  },
  {
   "cell_type": "code",
   "execution_count": 10,
   "id": "588fb6ab",
   "metadata": {},
   "outputs": [
    {
     "name": "stdout",
     "output_type": "stream",
     "text": [
      "Dot product: 32\n"
     ]
    }
   ],
   "source": [
    "# Dot product\n",
    "print(\"Dot product:\", np.dot(x, y))"
   ]
  },
  {
   "cell_type": "code",
   "execution_count": 11,
   "id": "3f4d823e",
   "metadata": {},
   "outputs": [
    {
     "name": "stdout",
     "output_type": "stream",
     "text": [
      "Broadcasted sum:\n",
      " [[11 21 31]\n",
      " [12 22 32]\n",
      " [13 23 33]]\n"
     ]
    }
   ],
   "source": [
    "# 6. Broadcasting\n",
    "a = np.array([[1], [2], [3]])\n",
    "b = np.array([10, 20, 30])\n",
    "print(\"Broadcasted sum:\\n\", a + b)\n"
   ]
  },
  {
   "cell_type": "code",
   "execution_count": 12,
   "id": "188cba4c",
   "metadata": {},
   "outputs": [
    {
     "name": "stdout",
     "output_type": "stream",
     "text": [
      "Sine: [ 0.84147098  0.90929743  0.14112001 -0.7568025  -0.95892427]\n",
      "Log: [0.         0.69314718 1.09861229 1.38629436 1.60943791]\n",
      "Exp: [  2.71828183   7.3890561   20.08553692  54.59815003 148.4131591 ]\n"
     ]
    }
   ],
   "source": [
    "# 7. Vectorized Operations\n",
    "arr = np.array([1, 2, 3, 4, 5])\n",
    "print(\"Sine:\", np.sin(arr))\n",
    "print(\"Log:\", np.log(arr))\n",
    "print(\"Exp:\", np.exp(arr))"
   ]
  },
  {
   "cell_type": "code",
   "execution_count": 13,
   "id": "ca0bc242",
   "metadata": {},
   "outputs": [
    {
     "name": "stdout",
     "output_type": "stream",
     "text": [
      "Sum: 15\n",
      "Mean: 3.0\n",
      "Std Dev: 1.4142135623730951\n",
      "Min: 1\n",
      "Max: 5\n",
      "Cumsum: [ 1  3  6 10 15]\n"
     ]
    }
   ],
   "source": [
    "# 8. Aggregations\n",
    "print(\"Sum:\", arr.sum())\n",
    "print(\"Mean:\", arr.mean())\n",
    "print(\"Std Dev:\", arr.std())\n",
    "print(\"Min:\", arr.min())\n",
    "print(\"Max:\", arr.max())\n",
    "print(\"Cumsum:\", arr.cumsum())"
   ]
  },
  {
   "cell_type": "code",
   "execution_count": 14,
   "id": "6fa7c147",
   "metadata": {},
   "outputs": [
    {
     "name": "stdout",
     "output_type": "stream",
     "text": [
      "Sum by row: [3 7]\n",
      "Sum by column: [4 6]\n"
     ]
    }
   ],
   "source": [
    "# 9. Axis-wise Operations\n",
    "matrix = np.array([[1, 2], [3, 4]])\n",
    "print(\"Sum by row:\", matrix.sum(axis=1))\n",
    "print(\"Sum by column:\", matrix.sum(axis=0))\n"
   ]
  },
  {
   "cell_type": "code",
   "execution_count": 15,
   "id": "d5b42b69",
   "metadata": {},
   "outputs": [
    {
     "name": "stdout",
     "output_type": "stream",
     "text": [
      "Original after view change: [99  2  3]\n",
      "Original after copy change: [99  2  3]\n"
     ]
    }
   ],
   "source": [
    "# 10. Copy vs View\n",
    "original = np.array([1, 2, 3])\n",
    "view = original[:]\n",
    "copy = original.copy()\n",
    "view[0] = 99\n",
    "print(\"Original after view change:\", original)\n",
    "copy[1] = 88\n",
    "print(\"Original after copy change:\", original)"
   ]
  },
  {
   "cell_type": "code",
   "execution_count": 16,
   "id": "255a50cf",
   "metadata": {},
   "outputs": [
    {
     "name": "stdout",
     "output_type": "stream",
     "text": [
      "Mask: [False False  True  True]\n",
      "Filtered: [20 25]\n"
     ]
    }
   ],
   "source": [
    "# 11. Boolean Masking\n",
    "arr = np.array([10, 15, 20, 25])\n",
    "mask = arr > 15\n",
    "print(\"Mask:\", mask)\n",
    "print(\"Filtered:\", arr[mask])"
   ]
  },
  {
   "cell_type": "code",
   "execution_count": 17,
   "id": "63963d79",
   "metadata": {},
   "outputs": [
    {
     "name": "stdout",
     "output_type": "stream",
     "text": [
      "Where: ['Low' 'Low' 'High' 'High']\n"
     ]
    }
   ],
   "source": [
    "# 12. Where condition\n",
    "result = np.where(arr > 15, \"High\", \"Low\")\n",
    "print(\"Where:\", result)"
   ]
  },
  {
   "cell_type": "code",
   "execution_count": null,
   "id": "d75e19e1",
   "metadata": {},
   "outputs": [],
   "source": []
  }
 ],
 "metadata": {
  "kernelspec": {
   "display_name": "rag_venv",
   "language": "python",
   "name": "python3"
  },
  "language_info": {
   "codemirror_mode": {
    "name": "ipython",
    "version": 3
   },
   "file_extension": ".py",
   "mimetype": "text/x-python",
   "name": "python",
   "nbconvert_exporter": "python",
   "pygments_lexer": "ipython3",
   "version": "3.11.5"
  }
 },
 "nbformat": 4,
 "nbformat_minor": 5
}
