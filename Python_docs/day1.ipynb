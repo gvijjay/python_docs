{
 "cells": [
  {
   "cell_type": "code",
   "execution_count": null,
   "id": "4bdc0952",
   "metadata": {},
   "outputs": [],
   "source": [
    "# Python Basics\n",
    "# ----------------------\n",
    "\n",
    "# 1. Python Syntax, Data Types, and Variables\n",
    "x = 10                     # int\n",
    "y = 3.14                   # float\n",
    "name = \"Alice\"             # str\n",
    "is_active = True           # bool"
   ]
  },
  {
   "cell_type": "code",
   "execution_count": 3,
   "id": "f369db08",
   "metadata": {},
   "outputs": [],
   "source": [
    "# Multiple assignment\n",
    "a, b, c = 1, 2, 3"
   ]
  },
  {
   "cell_type": "code",
   "execution_count": 4,
   "id": "f354b538",
   "metadata": {},
   "outputs": [
    {
     "name": "stdout",
     "output_type": "stream",
     "text": [
      "<class 'int'>\n",
      "10.0\n"
     ]
    }
   ],
   "source": [
    "# Type checking\n",
    "print(type(x))             # <class 'int'>\n",
    "\n",
    "# Type casting\n",
    "print(float(x))            # 10.0"
   ]
  },
  {
   "cell_type": "code",
   "execution_count": 7,
   "id": "57bfd4f3",
   "metadata": {},
   "outputs": [
    {
     "name": "stdout",
     "output_type": "stream",
     "text": [
      "1\n",
      "2\n",
      "3\n"
     ]
    }
   ],
   "source": [
    "print(a)\n",
    "print(b)\n",
    "print(c)"
   ]
  },
  {
   "cell_type": "code",
   "execution_count": 8,
   "id": "873ac976",
   "metadata": {},
   "outputs": [
    {
     "name": "stdout",
     "output_type": "stream",
     "text": [
      "Hello, ram\n"
     ]
    }
   ],
   "source": [
    "# 2. Input/Output\n",
    "name = input(\"What is your name? \")\n",
    "print(\"Hello,\", name)\n"
   ]
  },
  {
   "cell_type": "code",
   "execution_count": 9,
   "id": "06e52d8b",
   "metadata": {},
   "outputs": [
    {
     "name": "stdout",
     "output_type": "stream",
     "text": [
      "Next year you'll be 23\n"
     ]
    }
   ],
   "source": [
    "\n",
    "age = int(input(\"Enter your age: \"))\n",
    "print(\"Next year you'll be\", age + 1)"
   ]
  },
  {
   "cell_type": "code",
   "execution_count": 10,
   "id": "0f4823f2",
   "metadata": {},
   "outputs": [
    {
     "name": "stdout",
     "output_type": "stream",
     "text": [
      "ram is 22 years old.\n"
     ]
    }
   ],
   "source": [
    "# f-strings\n",
    "print(f\"{name} is {age} years old.\")"
   ]
  },
  {
   "cell_type": "code",
   "execution_count": 11,
   "id": "cc0c7ab2",
   "metadata": {},
   "outputs": [
    {
     "name": "stdout",
     "output_type": "stream",
     "text": [
      "Positive\n"
     ]
    }
   ],
   "source": [
    "# 3. Control Flow\n",
    "# if-elif-else\n",
    "number = int(input(\"Enter a number: \"))\n",
    "if number > 0:\n",
    "    print(\"Positive\")\n",
    "elif number == 0:\n",
    "    print(\"Zero\")\n",
    "else:\n",
    "    print(\"Negative\")"
   ]
  },
  {
   "cell_type": "code",
   "execution_count": 12,
   "id": "90efd925",
   "metadata": {},
   "outputs": [
    {
     "name": "stdout",
     "output_type": "stream",
     "text": [
      "Both x and y are positive\n"
     ]
    }
   ],
   "source": [
    "# Logical operators\n",
    "x = 5\n",
    "y = 10\n",
    "if x > 0 and y > 0:\n",
    "    print(\"Both x and y are positive\")\n"
   ]
  },
  {
   "cell_type": "code",
   "execution_count": 13,
   "id": "39a4e170",
   "metadata": {},
   "outputs": [
    {
     "name": "stdout",
     "output_type": "stream",
     "text": [
      "One of the number is negative\n"
     ]
    }
   ],
   "source": [
    "x = -5\n",
    "y = 10\n",
    "if x > 0 and y > 0:\n",
    "    print(\"Both x and y are positive\")\n",
    "else:\n",
    "    print(\"One of the number is negative\")"
   ]
  },
  {
   "cell_type": "code",
   "execution_count": 14,
   "id": "141b6bb2",
   "metadata": {},
   "outputs": [
    {
     "name": "stdout",
     "output_type": "stream",
     "text": [
      "for loop: 0\n",
      "for loop: 1\n",
      "for loop: 2\n",
      "for loop: 3\n",
      "for loop: 4\n"
     ]
    }
   ],
   "source": [
    "# 4. Loops\n",
    "# for loop\n",
    "for i in range(5):\n",
    "    print(f\"for loop: {i}\")"
   ]
  },
  {
   "cell_type": "code",
   "execution_count": 15,
   "id": "952f2ac9",
   "metadata": {},
   "outputs": [
    {
     "name": "stdout",
     "output_type": "stream",
     "text": [
      "while loop: 0\n",
      "while loop: 1\n",
      "while loop: 2\n",
      "while loop: 3\n",
      "while loop: 4\n"
     ]
    }
   ],
   "source": [
    "# while loop\n",
    "count = 0\n",
    "while count < 5:\n",
    "    print(f\"while loop: {count}\")\n",
    "    count += 1"
   ]
  },
  {
   "cell_type": "code",
   "execution_count": 16,
   "id": "db092272",
   "metadata": {},
   "outputs": [
    {
     "name": "stdout",
     "output_type": "stream",
     "text": [
      "odd number before 7: 1\n",
      "odd number before 7: 3\n",
      "odd number before 7: 5\n"
     ]
    }
   ],
   "source": [
    "# break and continue\n",
    "for i in range(10):\n",
    "    if i == 7:\n",
    "        break\n",
    "    if i % 2 == 0:\n",
    "        continue\n",
    "    print(f\"odd number before 7: {i}\")"
   ]
  },
  {
   "cell_type": "code",
   "execution_count": 17,
   "id": "e6643a43",
   "metadata": {},
   "outputs": [
    {
     "name": "stdout",
     "output_type": "stream",
     "text": [
      "8\n",
      "8\n",
      "8\n",
      "4.0\n",
      "2\n",
      "1\n",
      "8\n"
     ]
    }
   ],
   "source": [
    "# 5. Basic Operators\n",
    "print(5 + 3)               # addition\n",
    "print(10 - 2)              # subtraction\n",
    "print(4 * 2)               # multiplication\n",
    "print(8 / 2)               # division\n",
    "print(5 // 2)              # floor division\n",
    "print(5 % 2)               # modulo\n",
    "print(2 ** 3)              # exponentiation"
   ]
  },
  {
   "cell_type": "code",
   "execution_count": 18,
   "id": "d1330f25",
   "metadata": {},
   "outputs": [
    {
     "name": "stdout",
     "output_type": "stream",
     "text": [
      "True\n",
      "True\n",
      "True\n"
     ]
    }
   ],
   "source": [
    "# Comparison operators\n",
    "print(5 == 5)\n",
    "print(5 != 3)\n",
    "print(5 > 2)"
   ]
  },
  {
   "cell_type": "code",
   "execution_count": 19,
   "id": "e76eb8da",
   "metadata": {},
   "outputs": [
    {
     "name": "stdout",
     "output_type": "stream",
     "text": [
      "True\n",
      "True\n"
     ]
    }
   ],
   "source": [
    "# Identity and membership\n",
    "list1 = [1, 2, 3]\n",
    "print(2 in list1)          # True\n",
    "print(4 not in list1)      # True\n"
   ]
  },
  {
   "cell_type": "code",
   "execution_count": 20,
   "id": "9762a251",
   "metadata": {},
   "outputs": [
    {
     "data": {
      "text/plain": [
       "'\\nThis is a\\nmulti-line comment\\n'"
      ]
     },
     "execution_count": 20,
     "metadata": {},
     "output_type": "execute_result"
    }
   ],
   "source": [
    "# 6. Comments\n",
    "# This is a single-line comment\n",
    "\"\"\"\n",
    "This is a\n",
    "multi-line comment\n",
    "\"\"\""
   ]
  },
  {
   "cell_type": "code",
   "execution_count": 21,
   "id": "d31a35eb",
   "metadata": {},
   "outputs": [
    {
     "name": "stdout",
     "output_type": "stream",
     "text": [
      "x is greater than 5\n",
      "This line is also inside the if block\n",
      "This line is outside the if block\n"
     ]
    }
   ],
   "source": [
    "# 7. Indentation Rules\n",
    "x = 10\n",
    "if x > 5:\n",
    "    print(\"x is greater than 5\")\n",
    "    print(\"This line is also inside the if block\")\n",
    "print(\"This line is outside the if block\")\n"
   ]
  },
  {
   "cell_type": "code",
   "execution_count": null,
   "id": "f68697e5",
   "metadata": {},
   "outputs": [],
   "source": []
  }
 ],
 "metadata": {
  "kernelspec": {
   "display_name": "rag_venv",
   "language": "python",
   "name": "python3"
  },
  "language_info": {
   "codemirror_mode": {
    "name": "ipython",
    "version": 3
   },
   "file_extension": ".py",
   "mimetype": "text/x-python",
   "name": "python",
   "nbconvert_exporter": "python",
   "pygments_lexer": "ipython3",
   "version": "3.11.5"
  }
 },
 "nbformat": 4,
 "nbformat_minor": 5
}
