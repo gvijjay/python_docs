{
 "cells": [
  {
   "cell_type": "code",
   "execution_count": 2,
   "id": "e88abf14",
   "metadata": {},
   "outputs": [
    {
     "name": "stdout",
     "output_type": "stream",
     "text": [
      "Matrix Multiplication (2x2 * 2x3):\n",
      "[[21 24 27]\n",
      " [47 54 61]]\n"
     ]
    }
   ],
   "source": [
    "import numpy as np\n",
    "\n",
    "A = np.array([[1, 2], [3, 4]])\n",
    "B = np.array([[5, 6, 7], [8, 9, 10]])\n",
    "C = np.dot(A, B)\n",
    "print(\"Matrix Multiplication (2x2 * 2x3):\")\n",
    "print(C)\n"
   ]
  },
  {
   "cell_type": "code",
   "execution_count": 3,
   "id": "de2946ef",
   "metadata": {},
   "outputs": [
    {
     "name": "stdout",
     "output_type": "stream",
     "text": [
      "Matrix Transposition:\n",
      "[[1 3 5]\n",
      " [2 4 6]]\n"
     ]
    }
   ],
   "source": [
    "A = np.array([[1, 2], [3, 4], [5, 6]])\n",
    "A_transpose = np.transpose(A)\n",
    "print(\"Matrix Transposition:\")\n",
    "print(A_transpose)\n"
   ]
  },
  {
   "cell_type": "code",
   "execution_count": 4,
   "id": "1aa5f0c8",
   "metadata": {},
   "outputs": [
    {
     "name": "stdout",
     "output_type": "stream",
     "text": [
      "Matrix Determinant:\n",
      "-2.0000000000000004\n"
     ]
    }
   ],
   "source": [
    "\n",
    "A = np.array([[1, 2], [3, 4]])\n",
    "determinant = np.linalg.det(A)\n",
    "print(\"Matrix Determinant:\")\n",
    "print(determinant)\n"
   ]
  },
  {
   "cell_type": "code",
   "execution_count": 5,
   "id": "45d0d1e6",
   "metadata": {},
   "outputs": [
    {
     "name": "stdout",
     "output_type": "stream",
     "text": [
      "Matrix Inversion:\n",
      "[[-2.   1. ]\n",
      " [ 1.5 -0.5]]\n"
     ]
    }
   ],
   "source": [
    "A = np.array([[1, 2], [3, 4]])\n",
    "A_inv = np.linalg.inv(A)\n",
    "print(\"Matrix Inversion:\")\n",
    "print(A_inv)\n"
   ]
  },
  {
   "cell_type": "code",
   "execution_count": 6,
   "id": "2698a5ea",
   "metadata": {},
   "outputs": [
    {
     "name": "stdout",
     "output_type": "stream",
     "text": [
      "Eigenvalues and Eigenvectors:\n",
      "Eigenvalues: [3. 2.]\n",
      "Eigenvectors:\n",
      "[[0.89442719 0.70710678]\n",
      " [0.4472136  0.70710678]]\n"
     ]
    }
   ],
   "source": [
    "A = np.array([[4, -2], [1, 1]])\n",
    "eigenvalues, eigenvectors = np.linalg.eig(A)\n",
    "print(\"Eigenvalues and Eigenvectors:\")\n",
    "print(\"Eigenvalues:\", eigenvalues)\n",
    "print(\"Eigenvectors:\")\n",
    "print(eigenvectors)\n"
   ]
  },
  {
   "cell_type": "code",
   "execution_count": 7,
   "id": "6c858455",
   "metadata": {},
   "outputs": [
    {
     "name": "stdout",
     "output_type": "stream",
     "text": [
      "Matrix Rank:\n",
      "2\n"
     ]
    }
   ],
   "source": [
    "A = np.array([[1, 2], [3, 4], [5, 6]])\n",
    "rank = np.linalg.matrix_rank(A)\n",
    "print(\"Matrix Rank:\")\n",
    "print(rank)\n"
   ]
  },
  {
   "cell_type": "code",
   "execution_count": 8,
   "id": "42c4293a",
   "metadata": {},
   "outputs": [
    {
     "name": "stdout",
     "output_type": "stream",
     "text": [
      "Solution to Ax = b:\n",
      "[1.  3.5]\n"
     ]
    }
   ],
   "source": [
    "A = np.array([[3, 2], [1, 2]])\n",
    "b = np.array([10, 8])\n",
    "x = np.linalg.solve(A, b)\n",
    "print(\"Solution to Ax = b:\")\n",
    "print(x)\n"
   ]
  },
  {
   "cell_type": "code",
   "execution_count": 9,
   "id": "4f795807",
   "metadata": {},
   "outputs": [
    {
     "name": "stdout",
     "output_type": "stream",
     "text": [
      "Random float between 0 and 1: 0.7838518968138137\n"
     ]
    }
   ],
   "source": [
    "random_float = np.random.random()\n",
    "print(\"Random float between 0 and 1:\", random_float)\n"
   ]
  },
  {
   "cell_type": "code",
   "execution_count": 10,
   "id": "12dfc854",
   "metadata": {},
   "outputs": [
    {
     "name": "stdout",
     "output_type": "stream",
     "text": [
      "Random integer between 1 and 10: 9\n"
     ]
    }
   ],
   "source": [
    "random_int = np.random.randint(1, 10)\n",
    "print(\"Random integer between 1 and 10:\", random_int)\n"
   ]
  },
  {
   "cell_type": "code",
   "execution_count": 11,
   "id": "ea05b10a",
   "metadata": {},
   "outputs": [
    {
     "name": "stdout",
     "output_type": "stream",
     "text": [
      "Random array (3x3):\n",
      "[[0.91999639 0.07855199 0.16765803]\n",
      " [0.6336616  0.16809624 0.85195773]\n",
      " [0.28276584 0.35201934 0.37688547]]\n"
     ]
    }
   ],
   "source": [
    "random_array = np.random.random((3, 3))\n",
    "print(\"Random array (3x3):\")\n",
    "print(random_array)\n"
   ]
  },
  {
   "cell_type": "code",
   "execution_count": 14,
   "id": "653da746",
   "metadata": {},
   "outputs": [
    {
     "name": "stdout",
     "output_type": "stream",
     "text": [
      "Random integer array (4x5):\n",
      "[[27 29 72 47 36]\n",
      " [94 82 21 96 28]\n",
      " [ 1 73 68 30 82]\n",
      " [ 2 19 90 63 75]]\n"
     ]
    }
   ],
   "source": [
    "random_int_array = np.random.randint(1, 100, size=(4, 5))\n",
    "print(\"Random integer array (4x5):\")\n",
    "print(random_int_array)\n"
   ]
  },
  {
   "cell_type": "code",
   "execution_count": 15,
   "id": "64c0c6f3",
   "metadata": {},
   "outputs": [
    {
     "name": "stdout",
     "output_type": "stream",
     "text": [
      "Shuffled array:\n",
      "[3 2 4 5 1]\n"
     ]
    }
   ],
   "source": [
    "arr = np.array([1, 2, 3, 4, 5])\n",
    "np.random.shuffle(arr)\n",
    "print(\"Shuffled array:\")\n",
    "print(arr)\n"
   ]
  },
  {
   "cell_type": "code",
   "execution_count": 16,
   "id": "61aa1224",
   "metadata": {},
   "outputs": [
    {
     "name": "stdout",
     "output_type": "stream",
     "text": [
      "Random choice from array:\n",
      "[2 4 2]\n"
     ]
    }
   ],
   "source": [
    "arr = np.array([1, 2, 3, 4, 5])\n",
    "random_choice = np.random.choice(arr, size=3)\n",
    "print(\"Random choice from array:\")\n",
    "print(random_choice)\n"
   ]
  },
  {
   "cell_type": "code",
   "execution_count": 17,
   "id": "f0961b45",
   "metadata": {},
   "outputs": [
    {
     "name": "stdout",
     "output_type": "stream",
     "text": [
      "Mean of the data: -0.08909028035482425\n"
     ]
    }
   ],
   "source": [
    "data = np.random.randn(100)\n",
    "mean = np.mean(data)\n",
    "print(\"Mean of the data:\", mean)\n"
   ]
  },
  {
   "cell_type": "code",
   "execution_count": 18,
   "id": "bb0ab131",
   "metadata": {},
   "outputs": [
    {
     "name": "stdout",
     "output_type": "stream",
     "text": [
      "Median of the data: -0.1442302955302185\n"
     ]
    }
   ],
   "source": [
    "median = np.median(data)\n",
    "print(\"Median of the data:\", median)\n"
   ]
  },
  {
   "cell_type": "code",
   "execution_count": 19,
   "id": "366265b2",
   "metadata": {},
   "outputs": [
    {
     "name": "stdout",
     "output_type": "stream",
     "text": [
      "Standard Deviation of the data: 1.0004701754096181\n"
     ]
    }
   ],
   "source": [
    "std_dev = np.std(data)\n",
    "print(\"Standard Deviation of the data:\", std_dev)\n"
   ]
  },
  {
   "cell_type": "code",
   "execution_count": 20,
   "id": "bff7f2a2",
   "metadata": {},
   "outputs": [
    {
     "name": "stdout",
     "output_type": "stream",
     "text": [
      "Variance of the data: 1.000940571884152\n"
     ]
    }
   ],
   "source": [
    "variance = np.var(data)\n",
    "print(\"Variance of the data:\", variance)\n"
   ]
  },
  {
   "cell_type": "code",
   "execution_count": null,
   "id": "1ddffad0",
   "metadata": {},
   "outputs": [],
   "source": []
  }
 ],
 "metadata": {
  "kernelspec": {
   "display_name": "rag_venv",
   "language": "python",
   "name": "python3"
  },
  "language_info": {
   "codemirror_mode": {
    "name": "ipython",
    "version": 3
   },
   "file_extension": ".py",
   "mimetype": "text/x-python",
   "name": "python",
   "nbconvert_exporter": "python",
   "pygments_lexer": "ipython3",
   "version": "3.11.5"
  }
 },
 "nbformat": 4,
 "nbformat_minor": 5
}
