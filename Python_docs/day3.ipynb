{
 "cells": [
  {
   "cell_type": "code",
   "execution_count": 1,
   "id": "8b0c9a45",
   "metadata": {},
   "outputs": [
    {
     "name": "stdout",
     "output_type": "stream",
     "text": [
      "List: ['apple', 'kiwi', 'banana', 'cherry', 'orange', 'melon', 'grape']\n"
     ]
    }
   ],
   "source": [
    "# Day 3: Data Structures in Python\n",
    "# ---------------------------------------------------\n",
    "\n",
    "# 1. Lists\n",
    "fruits = [\"apple\", \"banana\", \"cherry\"]\n",
    "fruits.append(\"orange\")\n",
    "fruits.insert(1, \"kiwi\")\n",
    "fruits.extend([\"melon\", \"grape\"])\n",
    "print(\"List:\", fruits)"
   ]
  },
  {
   "cell_type": "code",
   "execution_count": 2,
   "id": "44fb6e3c",
   "metadata": {},
   "outputs": [
    {
     "name": "stdout",
     "output_type": "stream",
     "text": [
      "After remove: ['apple', 'kiwi', 'cherry', 'orange', 'melon']\n"
     ]
    }
   ],
   "source": [
    "fruits.pop()         # removes last\n",
    "fruits.remove(\"banana\")\n",
    "print(\"After remove:\", fruits)"
   ]
  },
  {
   "cell_type": "code",
   "execution_count": 3,
   "id": "5f94a6b6",
   "metadata": {},
   "outputs": [
    {
     "name": "stdout",
     "output_type": "stream",
     "text": [
      "Index of cherry: 2\n",
      "Count of apple: 1\n"
     ]
    }
   ],
   "source": [
    "print(\"Index of cherry:\", fruits.index(\"cherry\"))\n",
    "print(\"Count of apple:\", fruits.count(\"apple\"))"
   ]
  },
  {
   "cell_type": "code",
   "execution_count": 4,
   "id": "a2f9f776",
   "metadata": {},
   "outputs": [
    {
     "name": "stdout",
     "output_type": "stream",
     "text": [
      "Reversed: ['melon', 'orange', 'cherry', 'kiwi', 'apple']\n"
     ]
    }
   ],
   "source": [
    "# Reversing and sorting\n",
    "fruits.reverse()\n",
    "print(\"Reversed:\", fruits)"
   ]
  },
  {
   "cell_type": "code",
   "execution_count": 5,
   "id": "67bea84c",
   "metadata": {},
   "outputs": [
    {
     "name": "stdout",
     "output_type": "stream",
     "text": [
      "Sorted: ['apple', 'cherry', 'kiwi', 'melon', 'orange']\n"
     ]
    }
   ],
   "source": [
    "fruits.sort()\n",
    "print(\"Sorted:\", fruits)"
   ]
  },
  {
   "cell_type": "code",
   "execution_count": 6,
   "id": "917af0f2",
   "metadata": {},
   "outputs": [
    {
     "name": "stdout",
     "output_type": "stream",
     "text": [
      "Copy: ['apple', 'cherry', 'kiwi', 'melon', 'orange']\n"
     ]
    }
   ],
   "source": [
    "# Copying a list\n",
    "copied = fruits.copy()\n",
    "print(\"Copy:\", copied)"
   ]
  },
  {
   "cell_type": "code",
   "execution_count": 7,
   "id": "d49aba10",
   "metadata": {},
   "outputs": [
    {
     "name": "stdout",
     "output_type": "stream",
     "text": [
      "Cleared copy: []\n"
     ]
    }
   ],
   "source": [
    "# Clear all items\n",
    "copied.clear()\n",
    "print(\"Cleared copy:\", copied)"
   ]
  },
  {
   "cell_type": "code",
   "execution_count": 8,
   "id": "d35fc652",
   "metadata": {},
   "outputs": [
    {
     "name": "stdout",
     "output_type": "stream",
     "text": [
      "[0, 2, 4, 6, 8]\n",
      "[9, 8, 7, 6, 5, 4, 3, 2, 1, 0]\n",
      "[3, 4, 5, 6]\n"
     ]
    }
   ],
   "source": [
    "# 2. List Slicing\n",
    "nums = list(range(10))\n",
    "print(nums[::2])  # every 2nd\n",
    "print(nums[::-1]) # reverse\n",
    "print(nums[3:7])"
   ]
  },
  {
   "cell_type": "code",
   "execution_count": 9,
   "id": "950949fb",
   "metadata": {},
   "outputs": [
    {
     "name": "stdout",
     "output_type": "stream",
     "text": [
      "Coordinates: (10, 20)\n"
     ]
    }
   ],
   "source": [
    "# 3. Tuples\n",
    "coordinates = (10, 20)\n",
    "print(\"Coordinates:\", coordinates)\n"
   ]
  },
  {
   "cell_type": "code",
   "execution_count": 10,
   "id": "5b7103ab",
   "metadata": {},
   "outputs": [
    {
     "name": "stdout",
     "output_type": "stream",
     "text": [
      "x=1, y=2, z=3\n"
     ]
    }
   ],
   "source": [
    "# Tuple packing & unpacking\n",
    "t = 1, 2, 3\n",
    "x, y, z = t\n",
    "print(f\"x={x}, y={y}, z={z}\")\n"
   ]
  },
  {
   "cell_type": "code",
   "execution_count": 11,
   "id": "a839d308",
   "metadata": {},
   "outputs": [
    {
     "name": "stdout",
     "output_type": "stream",
     "text": [
      "3\n"
     ]
    }
   ],
   "source": [
    "# Nested tuples\n",
    "tuple_data = ((1, 2), (3, 4))\n",
    "print(tuple_data[1][0])"
   ]
  },
  {
   "cell_type": "code",
   "execution_count": 12,
   "id": "db1c6c2f",
   "metadata": {},
   "outputs": [
    {
     "name": "stdout",
     "output_type": "stream",
     "text": [
      "([1, 2, 3], (3, 4))\n"
     ]
    }
   ],
   "source": [
    "# Tuple + List mix\n",
    "mix = ([1, 2], (3, 4))\n",
    "mix[0].append(3)\n",
    "print(mix)"
   ]
  },
  {
   "cell_type": "code",
   "execution_count": 13,
   "id": "b0f9486a",
   "metadata": {},
   "outputs": [
    {
     "name": "stdout",
     "output_type": "stream",
     "text": [
      "Colors: {'yellow', 'blue', 'red'}\n"
     ]
    }
   ],
   "source": [
    "# 4. Sets\n",
    "colors = {\"red\", \"green\", \"blue\"}\n",
    "colors.add(\"yellow\")\n",
    "colors.discard(\"green\")\n",
    "print(\"Colors:\", colors)"
   ]
  },
  {
   "cell_type": "code",
   "execution_count": 14,
   "id": "06e3ac9c",
   "metadata": {},
   "outputs": [
    {
     "name": "stdout",
     "output_type": "stream",
     "text": [
      "Union: {1, 2, 3, 4, 5, 6}\n",
      "Intersection: {3, 4}\n",
      "Difference: {1, 2}\n",
      "Symmetric Diff: {1, 2, 5, 6}\n"
     ]
    }
   ],
   "source": [
    "# Set math\n",
    "a = {1, 2, 3, 4}\n",
    "b = {3, 4, 5, 6}\n",
    "print(\"Union:\", a | b)\n",
    "print(\"Intersection:\", a & b)\n",
    "print(\"Difference:\", a - b)\n",
    "print(\"Symmetric Diff:\", a ^ b)"
   ]
  },
  {
   "cell_type": "code",
   "execution_count": 15,
   "id": "4bb9ca5b",
   "metadata": {},
   "outputs": [
    {
     "name": "stdout",
     "output_type": "stream",
     "text": [
      "Person: {'name': 'Alice', 'age': 30, 'skills': ['Python', 'Data']}\n"
     ]
    }
   ],
   "source": [
    "# 5. Dictionaries\n",
    "person = {\n",
    "    \"name\": \"Alice\",\n",
    "    \"age\": 30,\n",
    "    \"skills\": [\"Python\", \"Data\"]\n",
    "}\n",
    "print(\"Person:\", person)\n",
    "\n",
    "person[\"city\"] = \"NY\"\n",
    "person.update({\"age\": 31})"
   ]
  },
  {
   "cell_type": "code",
   "execution_count": 16,
   "id": "44a15be1",
   "metadata": {},
   "outputs": [
    {
     "name": "stdout",
     "output_type": "stream",
     "text": [
      "NY\n",
      "{'name': 'Alice', 'age': 31}\n"
     ]
    }
   ],
   "source": [
    "# Deletion\n",
    "print(person.pop(\"city\"))\n",
    "del person[\"skills\"]\n",
    "print(person)"
   ]
  },
  {
   "cell_type": "code",
   "execution_count": 17,
   "id": "83bf08b8",
   "metadata": {},
   "outputs": [
    {
     "name": "stdout",
     "output_type": "stream",
     "text": [
      "Keys: ['name', 'age']\n",
      "Values: ['Alice', 31]\n",
      "Items: [('name', 'Alice'), ('age', 31)]\n"
     ]
    }
   ],
   "source": [
    "# Keys, Values, Items\n",
    "print(\"Keys:\", list(person.keys()))\n",
    "print(\"Values:\", list(person.values()))\n",
    "print(\"Items:\", list(person.items()))"
   ]
  },
  {
   "cell_type": "code",
   "execution_count": 18,
   "id": "f350d8aa",
   "metadata": {},
   "outputs": [
    {
     "name": "stdout",
     "output_type": "stream",
     "text": [
      "Alice\n",
      "Unknown\n"
     ]
    }
   ],
   "source": [
    "\n",
    "# Safe access\n",
    "print(person.get(\"name\"))\n",
    "print(person.get(\"country\", \"Unknown\"))"
   ]
  },
  {
   "cell_type": "code",
   "execution_count": 19,
   "id": "f0135b0f",
   "metadata": {},
   "outputs": [
    {
     "name": "stdout",
     "output_type": "stream",
     "text": [
      "a 1\n",
      "b 2\n",
      "c 3\n"
     ]
    }
   ],
   "source": [
    "# 6. Dictionary Iteration\n",
    "sample = {\"a\": 1, \"b\": 2, \"c\": 3}\n",
    "for key in sample:\n",
    "    print(key, sample[key])\n"
   ]
  },
  {
   "cell_type": "code",
   "execution_count": 20,
   "id": "18475bec",
   "metadata": {},
   "outputs": [
    {
     "name": "stdout",
     "output_type": "stream",
     "text": [
      "A = 2\n",
      "B = 4\n",
      "C = 6\n"
     ]
    }
   ],
   "source": [
    "for key, value in sample.items():\n",
    "    print(f\"{key.upper()} = {value * 2}\")"
   ]
  },
  {
   "cell_type": "code",
   "execution_count": 21,
   "id": "72695232",
   "metadata": {},
   "outputs": [
    {
     "name": "stdout",
     "output_type": "stream",
     "text": [
      "Squares: {0: 0, 1: 1, 2: 4, 3: 9, 4: 16}\n"
     ]
    }
   ],
   "source": [
    "# 7. Dictionary Comprehension\n",
    "squares = {x: x**2 for x in range(5)}\n",
    "print(\"Squares:\", squares)"
   ]
  },
  {
   "cell_type": "code",
   "execution_count": 22,
   "id": "fd9a1be4",
   "metadata": {},
   "outputs": [
    {
     "name": "stdout",
     "output_type": "stream",
     "text": [
      "90\n"
     ]
    }
   ],
   "source": [
    "# 8. Nested Dictionary\n",
    "students = {\n",
    "    \"s1\": {\"name\": \"Tom\", \"score\": 90},\n",
    "    \"s2\": {\"name\": \"Jerry\", \"score\": 85},\n",
    "}\n",
    "print(students[\"s1\"][\"score\"])"
   ]
  },
  {
   "cell_type": "code",
   "execution_count": 23,
   "id": "69d71341",
   "metadata": {},
   "outputs": [
    {
     "name": "stdout",
     "output_type": "stream",
     "text": [
      "True\n",
      "True\n",
      "True\n"
     ]
    }
   ],
   "source": [
    "\n",
    "# 9. Membership tests\n",
    "print(\"apple\" in fruits)\n",
    "print(3 in a)\n",
    "print(\"name\" in person)"
   ]
  },
  {
   "cell_type": "code",
   "execution_count": 24,
   "id": "8efd093f",
   "metadata": {},
   "outputs": [
    {
     "name": "stdout",
     "output_type": "stream",
     "text": [
      "5\n",
      "9\n",
      "0\n",
      "45\n",
      "[9, 8, 7, 6, 5, 4, 3, 2, 1, 0]\n"
     ]
    }
   ],
   "source": [
    "# 10. Built-in Functions\n",
    "print(len(fruits))\n",
    "print(max(nums))\n",
    "print(min(nums))\n",
    "print(sum(nums))\n",
    "print(sorted(set(nums), reverse=True))\n"
   ]
  },
  {
   "cell_type": "code",
   "execution_count": 25,
   "id": "245a1161",
   "metadata": {},
   "outputs": [
    {
     "name": "stdout",
     "output_type": "stream",
     "text": [
      "['a', 'b', 'c']\n",
      "{1, 2, 3}\n",
      "('x', 'y')\n",
      "{'a': 1, 'b': 2}\n"
     ]
    }
   ],
   "source": [
    "# 11. Type Casting\n",
    "print(list(\"abc\"))\n",
    "print(set([1, 2, 2, 3]))\n",
    "print(tuple([\"x\", \"y\"]))\n",
    "print(dict([(\"a\", 1), (\"b\", 2)]))"
   ]
  },
  {
   "cell_type": "code",
   "execution_count": 26,
   "id": "1c19a4b0",
   "metadata": {},
   "outputs": [
    {
     "name": "stdout",
     "output_type": "stream",
     "text": [
      "1 2 3 4 5 6 \n"
     ]
    }
   ],
   "source": [
    "# 12. Advanced List Usage\n",
    "nested_list = [[1, 2], [3, 4], [5, 6]]\n",
    "for inner in nested_list:\n",
    "    for num in inner:\n",
    "        print(num, end=' ')\n",
    "print()\n"
   ]
  },
  {
   "cell_type": "code",
   "execution_count": 27,
   "id": "72c3dfab",
   "metadata": {},
   "outputs": [
    {
     "name": "stdout",
     "output_type": "stream",
     "text": [
      "Flattened: [1, 2, 3, 4, 5, 6]\n"
     ]
    }
   ],
   "source": [
    "# Flatten list of lists\n",
    "flat = [num for sublist in nested_list for num in sublist]\n",
    "print(\"Flattened:\", flat)"
   ]
  },
  {
   "cell_type": "code",
   "execution_count": 28,
   "id": "0b1439a0",
   "metadata": {},
   "outputs": [
    {
     "name": "stdout",
     "output_type": "stream",
     "text": [
      "Zipped: [('Alice', 85), ('Bob', 90)]\n"
     ]
    }
   ],
   "source": [
    "# 13. Zipping\n",
    "names = [\"Alice\", \"Bob\"]\n",
    "scores = [85, 90]\n",
    "pairs = list(zip(names, scores))\n",
    "print(\"Zipped:\", pairs)"
   ]
  },
  {
   "cell_type": "code",
   "execution_count": 29,
   "id": "ae85dc27",
   "metadata": {},
   "outputs": [
    {
     "name": "stdout",
     "output_type": "stream",
     "text": [
      "Index 0: apple\n",
      "Index 1: cherry\n",
      "Index 2: kiwi\n",
      "Index 3: melon\n",
      "Index 4: orange\n"
     ]
    }
   ],
   "source": [
    "# 14. Enumerate\n",
    "for idx, val in enumerate(fruits):\n",
    "    print(f\"Index {idx}: {val}\")\n"
   ]
  },
  {
   "cell_type": "code",
   "execution_count": 30,
   "id": "fbba410e",
   "metadata": {},
   "outputs": [
    {
     "name": "stdout",
     "output_type": "stream",
     "text": [
      "Descending: [33, 10, 4, 2]\n",
      "Reversed: [2, 4, 10, 33]\n"
     ]
    }
   ],
   "source": [
    "# 15. Reversing and Sorting with keys\n",
    "numbers = [10, 2, 33, 4]\n",
    "numbers.sort(key=lambda x: -x)\n",
    "print(\"Descending:\", numbers)\n",
    "\n",
    "# Reverse list\n",
    "rev = list(reversed(numbers))\n",
    "print(\"Reversed:\", rev)\n"
   ]
  },
  {
   "cell_type": "code",
   "execution_count": 31,
   "id": "b5af42fe",
   "metadata": {},
   "outputs": [
    {
     "name": "stdout",
     "output_type": "stream",
     "text": [
      "Empty list is False\n",
      "Can't pop from empty list: pop from empty list\n"
     ]
    }
   ],
   "source": [
    "# 16. Edge cases\n",
    "empty = []\n",
    "if not empty:\n",
    "    print(\"Empty list is False\")\n",
    "\n",
    "try:\n",
    "    empty.pop()\n",
    "except IndexError as e:\n",
    "    print(\"Can't pop from empty list:\", e)\n"
   ]
  },
  {
   "cell_type": "code",
   "execution_count": 32,
   "id": "3eaf92fc",
   "metadata": {},
   "outputs": [
    {
     "name": "stdout",
     "output_type": "stream",
     "text": [
      "{'math': [90, 85]}\n",
      "Merged dict: {'a': 1, 'b': 3, 'c': 4}\n"
     ]
    }
   ],
   "source": [
    "# 17. Multi-value dict (values as list)\n",
    "grades = {}\n",
    "grades.setdefault(\"math\", []).append(90)\n",
    "grades.setdefault(\"math\", []).append(85)\n",
    "print(grades)\n",
    "\n",
    "# 18. Dictionary merge (Python 3.9+)\n",
    "d1 = {\"a\": 1, \"b\": 2}\n",
    "d2 = {\"b\": 3, \"c\": 4}\n",
    "merged = d1 | d2\n",
    "print(\"Merged dict:\", merged)"
   ]
  },
  {
   "cell_type": "code",
   "execution_count": null,
   "id": "88c6e894",
   "metadata": {},
   "outputs": [],
   "source": []
  }
 ],
 "metadata": {
  "kernelspec": {
   "display_name": "rag_venv",
   "language": "python",
   "name": "python3"
  },
  "language_info": {
   "codemirror_mode": {
    "name": "ipython",
    "version": 3
   },
   "file_extension": ".py",
   "mimetype": "text/x-python",
   "name": "python",
   "nbconvert_exporter": "python",
   "pygments_lexer": "ipython3",
   "version": "3.11.5"
  }
 },
 "nbformat": 4,
 "nbformat_minor": 5
}
