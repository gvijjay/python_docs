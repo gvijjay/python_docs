{
 "cells": [
  {
   "cell_type": "code",
   "execution_count": 1,
   "id": "74e4d5ac",
   "metadata": {},
   "outputs": [],
   "source": [
    "#Model Training in TensorFlow & PyTorch\n",
    "# . Training a Neural Network on a Dataset\n",
    "#  Goal: Train a simple classifier on the MNIST or a synthetic dataset.\n",
    "\n",
    "# Task:\n",
    "\n",
    "# Load the dataset (MNIST or make_classification from scikit-learn).\n",
    "\n",
    "# Build a feedforward neural network.\n",
    "\n",
    "# Train it and evaluate the accuracy."
   ]
  },
  {
   "cell_type": "markdown",
   "id": "ef2334f9",
   "metadata": {},
   "source": [
    "### Model Training with Pytorch"
   ]
  },
  {
   "cell_type": "code",
   "execution_count": 2,
   "id": "f7c4d065",
   "metadata": {},
   "outputs": [],
   "source": [
    "#With Pytorch\n",
    "from sklearn.datasets import make_classification\n",
    "from sklearn.model_selection import train_test_split\n",
    "import torch\n",
    "import torch.nn as nn\n",
    "import torch.optim as optim"
   ]
  },
  {
   "cell_type": "code",
   "execution_count": 3,
   "id": "0b8ccfa5",
   "metadata": {},
   "outputs": [],
   "source": [
    "# Dataset\n",
    "X, y = make_classification(n_samples=1000, n_features=20, n_classes=2)\n",
    "X_train, X_test, y_train, y_test = train_test_split(X, y, test_size=0.2)\n",
    "X_train = torch.tensor(X_train, dtype=torch.float32)\n",
    "y_train = torch.tensor(y_train, dtype=torch.float32).view(-1, 1)"
   ]
  },
  {
   "cell_type": "code",
   "execution_count": 4,
   "id": "92e82d88",
   "metadata": {},
   "outputs": [],
   "source": [
    "# Model\n",
    "class Net(nn.Module):\n",
    "    def __init__(self):\n",
    "        super().__init__()\n",
    "        self.fc = nn.Sequential(\n",
    "            nn.Linear(20, 64),\n",
    "            nn.ReLU(),\n",
    "            nn.Linear(64, 1),\n",
    "            nn.Sigmoid()\n",
    "        )\n",
    "    def forward(self, x):\n",
    "        return self.fc(x)\n"
   ]
  },
  {
   "cell_type": "code",
   "execution_count": 5,
   "id": "c9d28ab1",
   "metadata": {},
   "outputs": [],
   "source": [
    "model = Net()\n",
    "criterion = nn.BCELoss()\n",
    "optimizer = optim.Adam(model.parameters(), lr=0.001)"
   ]
  },
  {
   "cell_type": "code",
   "execution_count": 6,
   "id": "7c796461",
   "metadata": {},
   "outputs": [
    {
     "name": "stdout",
     "output_type": "stream",
     "text": [
      "Epoch 0, Loss: 0.6857\n",
      "Epoch 10, Loss: 0.6368\n",
      "Epoch 20, Loss: 0.5920\n",
      "Epoch 30, Loss: 0.5487\n",
      "Epoch 40, Loss: 0.5051\n",
      "Epoch 50, Loss: 0.4611\n",
      "Epoch 60, Loss: 0.4172\n",
      "Epoch 70, Loss: 0.3746\n",
      "Epoch 80, Loss: 0.3342\n",
      "Epoch 90, Loss: 0.2968\n"
     ]
    }
   ],
   "source": [
    "# Training\n",
    "for epoch in range(100):\n",
    "    y_pred = model(X_train)\n",
    "    loss = criterion(y_pred, y_train)\n",
    "    optimizer.zero_grad()\n",
    "    loss.backward()\n",
    "    optimizer.step()\n",
    "    if epoch % 10 == 0:\n",
    "        print(f\"Epoch {epoch}, Loss: {loss.item():.4f}\")"
   ]
  },
  {
   "cell_type": "markdown",
   "id": "992b77ea",
   "metadata": {},
   "source": [
    "### With Tensorflow"
   ]
  },
  {
   "cell_type": "code",
   "execution_count": 7,
   "id": "a3905a8b",
   "metadata": {},
   "outputs": [],
   "source": [
    "#With Tennsorflow\n",
    "import tensorflow as tf\n",
    "from sklearn.datasets import make_classification\n",
    "from sklearn.model_selection import train_test_split"
   ]
  },
  {
   "cell_type": "code",
   "execution_count": 8,
   "id": "8636e87e",
   "metadata": {},
   "outputs": [],
   "source": [
    "# Dataset\n",
    "X, y = make_classification(n_samples=1000, n_features=20, n_classes=2)\n",
    "X_train, X_test, y_train, y_test = train_test_split(X, y, test_size=0.2)"
   ]
  },
  {
   "cell_type": "code",
   "execution_count": 10,
   "id": "8a0eb7bc",
   "metadata": {},
   "outputs": [
    {
     "name": "stderr",
     "output_type": "stream",
     "text": [
      "d:\\PERSONAL_PROJECTS\\Genai_training_rag\\rag_venv\\Lib\\site-packages\\keras\\src\\layers\\core\\dense.py:87: UserWarning: Do not pass an `input_shape`/`input_dim` argument to a layer. When using Sequential models, prefer using an `Input(shape)` object as the first layer in the model instead.\n",
      "  super().__init__(activity_regularizer=activity_regularizer, **kwargs)\n"
     ]
    }
   ],
   "source": [
    "# Model\n",
    "model = tf.keras.Sequential([\n",
    "    tf.keras.layers.Dense(64, activation='relu', input_shape=(20,)),\n",
    "    tf.keras.layers.Dense(1, activation='sigmoid')])"
   ]
  },
  {
   "cell_type": "code",
   "execution_count": 11,
   "id": "fa3c05ec",
   "metadata": {},
   "outputs": [],
   "source": [
    "model.compile(optimizer='adam', loss='binary_crossentropy', metrics=['accuracy'])\n"
   ]
  },
  {
   "cell_type": "code",
   "execution_count": 12,
   "id": "affabff6",
   "metadata": {},
   "outputs": [
    {
     "name": "stdout",
     "output_type": "stream",
     "text": [
      "Epoch 1/10\n",
      "\u001b[1m25/25\u001b[0m \u001b[32m━━━━━━━━━━━━━━━━━━━━\u001b[0m\u001b[37m\u001b[0m \u001b[1m2s\u001b[0m 6ms/step - accuracy: 0.3547 - loss: 0.8360\n",
      "Epoch 2/10\n",
      "\u001b[1m25/25\u001b[0m \u001b[32m━━━━━━━━━━━━━━━━━━━━\u001b[0m\u001b[37m\u001b[0m \u001b[1m0s\u001b[0m 5ms/step - accuracy: 0.7030 - loss: 0.6130\n",
      "Epoch 3/10\n",
      "\u001b[1m25/25\u001b[0m \u001b[32m━━━━━━━━━━━━━━━━━━━━\u001b[0m\u001b[37m\u001b[0m \u001b[1m0s\u001b[0m 5ms/step - accuracy: 0.8605 - loss: 0.4728\n",
      "Epoch 4/10\n",
      "\u001b[1m25/25\u001b[0m \u001b[32m━━━━━━━━━━━━━━━━━━━━\u001b[0m\u001b[37m\u001b[0m \u001b[1m0s\u001b[0m 5ms/step - accuracy: 0.9181 - loss: 0.3780\n",
      "Epoch 5/10\n",
      "\u001b[1m25/25\u001b[0m \u001b[32m━━━━━━━━━━━━━━━━━━━━\u001b[0m\u001b[37m\u001b[0m \u001b[1m0s\u001b[0m 5ms/step - accuracy: 0.9459 - loss: 0.3059\n",
      "Epoch 6/10\n",
      "\u001b[1m25/25\u001b[0m \u001b[32m━━━━━━━━━━━━━━━━━━━━\u001b[0m\u001b[37m\u001b[0m \u001b[1m0s\u001b[0m 5ms/step - accuracy: 0.9390 - loss: 0.2557\n",
      "Epoch 7/10\n",
      "\u001b[1m25/25\u001b[0m \u001b[32m━━━━━━━━━━━━━━━━━━━━\u001b[0m\u001b[37m\u001b[0m \u001b[1m0s\u001b[0m 5ms/step - accuracy: 0.9267 - loss: 0.2387\n",
      "Epoch 8/10\n",
      "\u001b[1m25/25\u001b[0m \u001b[32m━━━━━━━━━━━━━━━━━━━━\u001b[0m\u001b[37m\u001b[0m \u001b[1m0s\u001b[0m 5ms/step - accuracy: 0.9340 - loss: 0.2128\n",
      "Epoch 9/10\n",
      "\u001b[1m25/25\u001b[0m \u001b[32m━━━━━━━━━━━━━━━━━━━━\u001b[0m\u001b[37m\u001b[0m \u001b[1m0s\u001b[0m 4ms/step - accuracy: 0.9179 - loss: 0.2186\n",
      "Epoch 10/10\n",
      "\u001b[1m25/25\u001b[0m \u001b[32m━━━━━━━━━━━━━━━━━━━━\u001b[0m\u001b[37m\u001b[0m \u001b[1m0s\u001b[0m 5ms/step - accuracy: 0.9335 - loss: 0.1901\n"
     ]
    },
    {
     "data": {
      "text/plain": [
       "<keras.src.callbacks.history.History at 0x2498fb91810>"
      ]
     },
     "execution_count": 12,
     "metadata": {},
     "output_type": "execute_result"
    }
   ],
   "source": [
    "# Training\n",
    "model.fit(X_train, y_train, epochs=10, batch_size=32)"
   ]
  },
  {
   "cell_type": "code",
   "execution_count": null,
   "id": "1f3aa5b8",
   "metadata": {},
   "outputs": [],
   "source": []
  },
  {
   "cell_type": "markdown",
   "id": "01d1bba5",
   "metadata": {},
   "source": [
    "### BackPropogation and Optimisation\n",
    "\n",
    "#### With Pytorch"
   ]
  },
  {
   "cell_type": "code",
   "execution_count": 13,
   "id": "411a59a5",
   "metadata": {},
   "outputs": [],
   "source": [
    "w = torch.tensor([1.0], requires_grad=True)\n",
    "b = torch.tensor([0.0], requires_grad=True)"
   ]
  },
  {
   "cell_type": "code",
   "execution_count": 14,
   "id": "c1b2aa0c",
   "metadata": {},
   "outputs": [
    {
     "data": {
      "text/plain": [
       "tensor([1.], requires_grad=True)"
      ]
     },
     "execution_count": 14,
     "metadata": {},
     "output_type": "execute_result"
    }
   ],
   "source": [
    "w"
   ]
  },
  {
   "cell_type": "code",
   "execution_count": 15,
   "id": "3bae8853",
   "metadata": {},
   "outputs": [],
   "source": [
    "optimizer = torch.optim.SGD([w, b], lr=0.1)"
   ]
  },
  {
   "cell_type": "code",
   "execution_count": 16,
   "id": "832e51a2",
   "metadata": {},
   "outputs": [
    {
     "name": "stdout",
     "output_type": "stream",
     "text": [
      "Epoch 0, w: 0.2000, b: -0.4000, loss: 4.0000\n",
      "Epoch 1, w: 0.2000, b: -0.4000, loss: 0.0000\n",
      "Epoch 2, w: 0.2000, b: -0.4000, loss: 0.0000\n",
      "Epoch 3, w: 0.2000, b: -0.4000, loss: 0.0000\n",
      "Epoch 4, w: 0.2000, b: -0.4000, loss: 0.0000\n",
      "Epoch 5, w: 0.2000, b: -0.4000, loss: 0.0000\n",
      "Epoch 6, w: 0.2000, b: -0.4000, loss: 0.0000\n",
      "Epoch 7, w: 0.2000, b: -0.4000, loss: 0.0000\n",
      "Epoch 8, w: 0.2000, b: -0.4000, loss: 0.0000\n",
      "Epoch 9, w: 0.2000, b: -0.4000, loss: 0.0000\n",
      "Epoch 10, w: 0.2000, b: -0.4000, loss: 0.0000\n",
      "Epoch 11, w: 0.2000, b: -0.4000, loss: 0.0000\n",
      "Epoch 12, w: 0.2000, b: -0.4000, loss: 0.0000\n",
      "Epoch 13, w: 0.2000, b: -0.4000, loss: 0.0000\n",
      "Epoch 14, w: 0.2000, b: -0.4000, loss: 0.0000\n",
      "Epoch 15, w: 0.2000, b: -0.4000, loss: 0.0000\n",
      "Epoch 16, w: 0.2000, b: -0.4000, loss: 0.0000\n",
      "Epoch 17, w: 0.2000, b: -0.4000, loss: 0.0000\n",
      "Epoch 18, w: 0.2000, b: -0.4000, loss: 0.0000\n",
      "Epoch 19, w: 0.2000, b: -0.4000, loss: 0.0000\n"
     ]
    }
   ],
   "source": [
    "for epoch in range(20):\n",
    "    x = torch.tensor([2.0])\n",
    "    y = (w * x + b) ** 2\n",
    "    y.backward()\n",
    "\n",
    "    optimizer.step()\n",
    "    optimizer.zero_grad()\n",
    "\n",
    "    print(f\"Epoch {epoch}, w: {w.item():.4f}, b: {b.item():.4f}, loss: {y.item():.4f}\")"
   ]
  },
  {
   "cell_type": "markdown",
   "id": "a0a993ea",
   "metadata": {},
   "source": [
    "### with Tensorflow"
   ]
  },
  {
   "cell_type": "code",
   "execution_count": 17,
   "id": "c165be84",
   "metadata": {},
   "outputs": [],
   "source": [
    "w = tf.Variable(1.0)\n",
    "b = tf.Variable(0.0)\n"
   ]
  },
  {
   "cell_type": "code",
   "execution_count": 18,
   "id": "7467d5b7",
   "metadata": {},
   "outputs": [],
   "source": [
    "optimizer = tf.keras.optimizers.SGD(learning_rate=0.1)"
   ]
  },
  {
   "cell_type": "code",
   "execution_count": 19,
   "id": "37ca72e3",
   "metadata": {},
   "outputs": [
    {
     "name": "stdout",
     "output_type": "stream",
     "text": [
      "Epoch 0, w: 0.2000, b: -0.4000, loss: 4.0000\n",
      "Epoch 1, w: 0.2000, b: -0.4000, loss: 0.0000\n",
      "Epoch 2, w: 0.2000, b: -0.4000, loss: 0.0000\n",
      "Epoch 3, w: 0.2000, b: -0.4000, loss: 0.0000\n",
      "Epoch 4, w: 0.2000, b: -0.4000, loss: 0.0000\n",
      "Epoch 5, w: 0.2000, b: -0.4000, loss: 0.0000\n",
      "Epoch 6, w: 0.2000, b: -0.4000, loss: 0.0000\n",
      "Epoch 7, w: 0.2000, b: -0.4000, loss: 0.0000\n",
      "Epoch 8, w: 0.2000, b: -0.4000, loss: 0.0000\n",
      "Epoch 9, w: 0.2000, b: -0.4000, loss: 0.0000\n",
      "Epoch 10, w: 0.2000, b: -0.4000, loss: 0.0000\n",
      "Epoch 11, w: 0.2000, b: -0.4000, loss: 0.0000\n",
      "Epoch 12, w: 0.2000, b: -0.4000, loss: 0.0000\n",
      "Epoch 13, w: 0.2000, b: -0.4000, loss: 0.0000\n",
      "Epoch 14, w: 0.2000, b: -0.4000, loss: 0.0000\n",
      "Epoch 15, w: 0.2000, b: -0.4000, loss: 0.0000\n",
      "Epoch 16, w: 0.2000, b: -0.4000, loss: 0.0000\n",
      "Epoch 17, w: 0.2000, b: -0.4000, loss: 0.0000\n",
      "Epoch 18, w: 0.2000, b: -0.4000, loss: 0.0000\n",
      "Epoch 19, w: 0.2000, b: -0.4000, loss: 0.0000\n"
     ]
    }
   ],
   "source": [
    "for epoch in range(20):\n",
    "    with tf.GradientTape() as tape:\n",
    "        x = tf.constant(2.0)\n",
    "        y = tf.square(w * x + b)\n",
    "\n",
    "    grads = tape.gradient(y, [w, b])\n",
    "    optimizer.apply_gradients(zip(grads, [w, b]))\n",
    "\n",
    "    print(f\"Epoch {epoch}, w: {w.numpy():.4f}, b: {b.numpy():.4f}, loss: {y.numpy():.4f}\")"
   ]
  },
  {
   "cell_type": "code",
   "execution_count": null,
   "id": "243b2046",
   "metadata": {},
   "outputs": [],
   "source": []
  },
  {
   "cell_type": "markdown",
   "id": "b4cb075a",
   "metadata": {},
   "source": [
    "### Saving  and loading models\n",
    "\n",
    "#### pytorch"
   ]
  },
  {
   "cell_type": "code",
   "execution_count": null,
   "id": "9a95bf9b",
   "metadata": {},
   "outputs": [],
   "source": []
  }
 ],
 "metadata": {
  "kernelspec": {
   "display_name": "rag_venv",
   "language": "python",
   "name": "python3"
  },
  "language_info": {
   "codemirror_mode": {
    "name": "ipython",
    "version": 3
   },
   "file_extension": ".py",
   "mimetype": "text/x-python",
   "name": "python",
   "nbconvert_exporter": "python",
   "pygments_lexer": "ipython3",
   "version": "3.11.5"
  }
 },
 "nbformat": 4,
 "nbformat_minor": 5
}
