{
 "cells": [
  {
   "cell_type": "code",
   "execution_count": 1,
   "id": "e39a247e",
   "metadata": {},
   "outputs": [],
   "source": [
    "import pandas as pd\n",
    "\n",
    "# Load employees\n",
    "employees = pd.read_csv('employees.csv')"
   ]
  },
  {
   "cell_type": "code",
   "execution_count": 2,
   "id": "fb195a80",
   "metadata": {},
   "outputs": [
    {
     "name": "stdout",
     "output_type": "stream",
     "text": [
      "Dept\n",
      "Finance    65000.0\n",
      "HR         52500.0\n",
      "IT         61000.0\n",
      "Name: Salary, dtype: float64\n"
     ]
    }
   ],
   "source": [
    "# 1. Group by department and calculate average salary\n",
    "print(employees.groupby('Dept')['Salary'].mean())"
   ]
  },
  {
   "cell_type": "code",
   "execution_count": 3,
   "id": "af1d44bc",
   "metadata": {},
   "outputs": [
    {
     "name": "stdout",
     "output_type": "stream",
     "text": [
      "Dept\n",
      "Finance    1\n",
      "HR         2\n",
      "IT         2\n",
      "Name: EmpID, dtype: int64\n"
     ]
    }
   ],
   "source": [
    "# 2. Count employees per department\n",
    "print(employees.groupby('Dept')['EmpID'].count())"
   ]
  },
  {
   "cell_type": "code",
   "execution_count": 4,
   "id": "4767b11a",
   "metadata": {},
   "outputs": [
    {
     "name": "stdout",
     "output_type": "stream",
     "text": [
      "Dept\n",
      "Finance     65000\n",
      "HR         105000\n",
      "IT         122000\n",
      "Name: Salary, dtype: int64\n"
     ]
    }
   ],
   "source": [
    "# 3. Sum of salaries per department\n",
    "print(employees.groupby('Dept')['Salary'].sum())"
   ]
  },
  {
   "cell_type": "code",
   "execution_count": 5,
   "id": "ae415c59",
   "metadata": {},
   "outputs": [
    {
     "name": "stdout",
     "output_type": "stream",
     "text": [
      "           min    max     mean\n",
      "Dept                          \n",
      "Finance  65000  65000  65000.0\n",
      "HR       50000  55000  52500.0\n",
      "IT       60000  62000  61000.0\n"
     ]
    }
   ],
   "source": [
    "# 4. Multiple aggregation functions\n",
    "print(employees.groupby('Dept')['Salary'].agg(['min', 'max', 'mean']))"
   ]
  },
  {
   "cell_type": "code",
   "execution_count": 6,
   "id": "eca0049a",
   "metadata": {},
   "outputs": [
    {
     "name": "stdout",
     "output_type": "stream",
     "text": [
      "Dept     Gender\n",
      "Finance  M         65000.0\n",
      "HR       F         50000.0\n",
      "         M         55000.0\n",
      "IT       F         62000.0\n",
      "         M         60000.0\n",
      "Name: Salary, dtype: float64\n"
     ]
    }
   ],
   "source": [
    "# 5. Grouping using multiple columns\n",
    "employees['Gender'] = ['F', 'M', 'M', 'M', 'F']\n",
    "print(employees.groupby(['Dept', 'Gender'])['Salary'].mean())"
   ]
  },
  {
   "cell_type": "code",
   "execution_count": 7,
   "id": "3f7e7aff",
   "metadata": {},
   "outputs": [
    {
     "name": "stdout",
     "output_type": "stream",
     "text": [
      "Dept\n",
      "Finance    1\n",
      "HR         2\n",
      "IT         2\n",
      "dtype: int64\n"
     ]
    }
   ],
   "source": [
    "# 6. Using `.size()` to count rows per group\n",
    "print(employees.groupby('Dept').size())"
   ]
  },
  {
   "cell_type": "code",
   "execution_count": 8,
   "id": "32606687",
   "metadata": {},
   "outputs": [
    {
     "name": "stdout",
     "output_type": "stream",
     "text": [
      "         Salary          EmpID\n",
      "            sum     mean count\n",
      "Dept                          \n",
      "Finance   65000  65000.0     1\n",
      "HR       105000  52500.0     2\n",
      "IT       122000  61000.0     2\n"
     ]
    }
   ],
   "source": [
    "agg_func = {'Salary': ['sum', 'mean'], 'EmpID': 'count'}\n",
    "print(employees.groupby('Dept').agg(agg_func))"
   ]
  },
  {
   "cell_type": "code",
   "execution_count": 9,
   "id": "1324f4bf",
   "metadata": {},
   "outputs": [
    {
     "name": "stdout",
     "output_type": "stream",
     "text": [
      "Dept\n",
      "Finance    65000.0\n",
      "IT         61000.0\n",
      "HR         52500.0\n",
      "Name: Salary, dtype: float64\n"
     ]
    }
   ],
   "source": [
    "# 8. Sorting aggregated values\n",
    "avg_salary = employees.groupby('Dept')['Salary'].mean().sort_values(ascending=False)\n",
    "print(avg_salary)"
   ]
  },
  {
   "cell_type": "code",
   "execution_count": 10,
   "id": "87b943e3",
   "metadata": {},
   "outputs": [
    {
     "name": "stdout",
     "output_type": "stream",
     "text": [
      "   EmpID   Name     Dept  Salary Gender\n",
      "1      2    Bob       IT   60000      M\n",
      "3      4  David  Finance   65000      M\n",
      "4      5    Eva       IT   62000      F\n"
     ]
    }
   ],
   "source": [
    "# 9. Filtering groups (salary > 55000)\n",
    "grouped = employees.groupby('Dept').filter(lambda x: x['Salary'].mean() > 55000)\n",
    "print(grouped)"
   ]
  },
  {
   "cell_type": "code",
   "execution_count": 11,
   "id": "44dbac14",
   "metadata": {},
   "outputs": [
    {
     "name": "stdout",
     "output_type": "stream",
     "text": [
      "   EmpID     Name     Dept  Salary Gender  PctOfDeptAvg\n",
      "0      1    Alice       HR   50000      F      0.952381\n",
      "1      2      Bob       IT   60000      M      0.983607\n",
      "2      3  Charlie       HR   55000      M      1.047619\n",
      "3      4    David  Finance   65000      M      1.000000\n",
      "4      5      Eva       IT   62000      F      1.016393\n"
     ]
    }
   ],
   "source": [
    "# 10. Transforming salary to percentage of dept average\n",
    "employees['PctOfDeptAvg'] = employees.groupby('Dept')['Salary'].transform(lambda x: x / x.mean())\n",
    "print(employees)\n"
   ]
  },
  {
   "cell_type": "code",
   "execution_count": 12,
   "id": "fdd78ce4",
   "metadata": {},
   "outputs": [
    {
     "name": "stdout",
     "output_type": "stream",
     "text": [
      "EmpID                 4\n",
      "Name              David\n",
      "Dept            Finance\n",
      "Salary            65000\n",
      "Gender                M\n",
      "PctOfDeptAvg        1.0\n",
      "Name: 3, dtype: object\n"
     ]
    }
   ],
   "source": [
    "# 11. Get department with highest paid employee\n",
    "print(employees.loc[employees['Salary'].idxmax()])"
   ]
  },
  {
   "cell_type": "code",
   "execution_count": 13,
   "id": "3f920159",
   "metadata": {},
   "outputs": [
    {
     "name": "stdout",
     "output_type": "stream",
     "text": [
      "      Dept   Salary\n",
      "0  Finance  65000.0\n",
      "1       HR  52500.0\n",
      "2       IT  61000.0\n"
     ]
    }
   ],
   "source": [
    "# 12. GroupBy with `as_index=False`\n",
    "print(employees.groupby('Dept', as_index=False)['Salary'].mean())"
   ]
  },
  {
   "cell_type": "code",
   "execution_count": 14,
   "id": "fd4cb52b",
   "metadata": {},
   "outputs": [],
   "source": [
    "# Load salaries\n",
    "#HAndle missing data\n",
    "salaries = pd.read_csv('salaries.csv')"
   ]
  },
  {
   "cell_type": "code",
   "execution_count": 15,
   "id": "1ab99b3f",
   "metadata": {},
   "outputs": [
    {
     "name": "stdout",
     "output_type": "stream",
     "text": [
      "   EmpID  Bonus    Tax\n",
      "0  False  False  False\n",
      "1  False   True  False\n",
      "2  False  False  False\n",
      "3  False  False   True\n",
      "4  False  False  False\n"
     ]
    }
   ],
   "source": [
    "# 13. Check for null values\n",
    "print(salaries.isnull())"
   ]
  },
  {
   "cell_type": "code",
   "execution_count": 16,
   "id": "3bf57e6c",
   "metadata": {},
   "outputs": [
    {
     "name": "stdout",
     "output_type": "stream",
     "text": [
      "EmpID    0\n",
      "Bonus    1\n",
      "Tax      1\n",
      "dtype: int64\n"
     ]
    }
   ],
   "source": [
    "# 14. Count missing values per column\n",
    "print(salaries.isnull().sum())"
   ]
  },
  {
   "cell_type": "code",
   "execution_count": 17,
   "id": "ff48ca48",
   "metadata": {},
   "outputs": [
    {
     "name": "stdout",
     "output_type": "stream",
     "text": [
      "   EmpID   Bonus     Tax\n",
      "0      1  5000.0  3000.0\n",
      "2      3  4000.0  2000.0\n",
      "4      5  5000.0  3000.0\n"
     ]
    }
   ],
   "source": [
    "# 15. Drop rows with any missing values\n",
    "print(salaries.dropna())"
   ]
  },
  {
   "cell_type": "code",
   "execution_count": 18,
   "id": "7133d3ac",
   "metadata": {},
   "outputs": [
    {
     "name": "stdout",
     "output_type": "stream",
     "text": [
      "   EmpID   Bonus     Tax\n",
      "0      1  5000.0  3000.0\n",
      "1      2     0.0  2500.0\n",
      "2      3  4000.0  2000.0\n",
      "3      4  6000.0     0.0\n",
      "4      5  5000.0  3000.0\n"
     ]
    }
   ],
   "source": [
    "# 16. Fill missing values with a constant\n",
    "print(salaries.fillna(0))"
   ]
  },
  {
   "cell_type": "code",
   "execution_count": 19,
   "id": "a5bb33d4",
   "metadata": {},
   "outputs": [
    {
     "name": "stdout",
     "output_type": "stream",
     "text": [
      "   EmpID   Bonus     Tax\n",
      "0      1  5000.0  3000.0\n",
      "1      2  5000.0  2500.0\n",
      "2      3  4000.0  2000.0\n",
      "3      4  6000.0     NaN\n",
      "4      5  5000.0  3000.0\n"
     ]
    }
   ],
   "source": [
    "# 17. Fill missing values with column mean\n",
    "salaries['Bonus'] = salaries['Bonus'].fillna(salaries['Bonus'].mean())\n",
    "print(salaries)"
   ]
  },
  {
   "cell_type": "code",
   "execution_count": 20,
   "id": "44007a16",
   "metadata": {},
   "outputs": [
    {
     "name": "stdout",
     "output_type": "stream",
     "text": [
      "   EmpID   Bonus     Tax\n",
      "0      1  5000.0  3000.0\n",
      "1      2  5000.0  2500.0\n",
      "2      3  4000.0  2000.0\n",
      "3      4  6000.0  2000.0\n",
      "4      5  5000.0  3000.0\n"
     ]
    },
    {
     "name": "stderr",
     "output_type": "stream",
     "text": [
      "C:\\Users\\rammohan\\AppData\\Local\\Temp\\ipykernel_15612\\3746231862.py:2: FutureWarning: DataFrame.fillna with 'method' is deprecated and will raise in a future version. Use obj.ffill() or obj.bfill() instead.\n",
      "  print(salaries.fillna(method='ffill'))\n"
     ]
    }
   ],
   "source": [
    "# 18. Forward fill\n",
    "print(salaries.fillna(method='ffill'))"
   ]
  },
  {
   "cell_type": "code",
   "execution_count": 21,
   "id": "6ab4da56",
   "metadata": {},
   "outputs": [
    {
     "name": "stdout",
     "output_type": "stream",
     "text": [
      "   EmpID   Bonus     Tax\n",
      "0      1  5000.0  3000.0\n",
      "1      2  5000.0  2500.0\n",
      "2      3  4000.0  2000.0\n",
      "3      4  6000.0  3000.0\n",
      "4      5  5000.0  3000.0\n"
     ]
    },
    {
     "name": "stderr",
     "output_type": "stream",
     "text": [
      "C:\\Users\\rammohan\\AppData\\Local\\Temp\\ipykernel_15612\\2390353403.py:2: FutureWarning: DataFrame.fillna with 'method' is deprecated and will raise in a future version. Use obj.ffill() or obj.bfill() instead.\n",
      "  print(salaries.fillna(method='bfill'))\n"
     ]
    }
   ],
   "source": [
    "\n",
    "# 19. Backward fill\n",
    "print(salaries.fillna(method='bfill'))\n"
   ]
  },
  {
   "cell_type": "code",
   "execution_count": 22,
   "id": "7b1e318c",
   "metadata": {},
   "outputs": [
    {
     "name": "stdout",
     "output_type": "stream",
     "text": [
      "   EmpID   Bonus     Tax\n",
      "0      1  5000.0  3000.0\n",
      "1      2  5000.0  2500.0\n",
      "2      3  4000.0  2000.0\n",
      "3      4  6000.0  2500.0\n",
      "4      5  5000.0  3000.0\n"
     ]
    }
   ],
   "source": [
    "# 20. Interpolate missing values (linear)\n",
    "print(salaries.interpolate())"
   ]
  },
  {
   "cell_type": "code",
   "execution_count": 24,
   "id": "479cc44b",
   "metadata": {},
   "outputs": [
    {
     "data": {
      "text/html": [
       "<div>\n",
       "<style scoped>\n",
       "    .dataframe tbody tr th:only-of-type {\n",
       "        vertical-align: middle;\n",
       "    }\n",
       "\n",
       "    .dataframe tbody tr th {\n",
       "        vertical-align: top;\n",
       "    }\n",
       "\n",
       "    .dataframe thead th {\n",
       "        text-align: right;\n",
       "    }\n",
       "</style>\n",
       "<table border=\"1\" class=\"dataframe\">\n",
       "  <thead>\n",
       "    <tr style=\"text-align: right;\">\n",
       "      <th></th>\n",
       "      <th>EmpID</th>\n",
       "      <th>Bonus</th>\n",
       "      <th>Tax</th>\n",
       "    </tr>\n",
       "  </thead>\n",
       "  <tbody>\n",
       "    <tr>\n",
       "      <th>0</th>\n",
       "      <td>1</td>\n",
       "      <td>5000.0</td>\n",
       "      <td>3000.0</td>\n",
       "    </tr>\n",
       "    <tr>\n",
       "      <th>1</th>\n",
       "      <td>2</td>\n",
       "      <td>5000.0</td>\n",
       "      <td>2500.0</td>\n",
       "    </tr>\n",
       "    <tr>\n",
       "      <th>2</th>\n",
       "      <td>3</td>\n",
       "      <td>4000.0</td>\n",
       "      <td>2000.0</td>\n",
       "    </tr>\n",
       "    <tr>\n",
       "      <th>3</th>\n",
       "      <td>4</td>\n",
       "      <td>6000.0</td>\n",
       "      <td>NaN</td>\n",
       "    </tr>\n",
       "    <tr>\n",
       "      <th>4</th>\n",
       "      <td>5</td>\n",
       "      <td>5000.0</td>\n",
       "      <td>3000.0</td>\n",
       "    </tr>\n",
       "  </tbody>\n",
       "</table>\n",
       "</div>"
      ],
      "text/plain": [
       "   EmpID   Bonus     Tax\n",
       "0      1  5000.0  3000.0\n",
       "1      2  5000.0  2500.0\n",
       "2      3  4000.0  2000.0\n",
       "3      4  6000.0     NaN\n",
       "4      5  5000.0  3000.0"
      ]
     },
     "execution_count": 24,
     "metadata": {},
     "output_type": "execute_result"
    }
   ],
   "source": [
    "# 21. Replace specific value with NaN\n",
    "import numpy as np\n",
    "salaries.replace(0, np.nan, inplace=True)\n",
    "salaries"
   ]
  },
  {
   "cell_type": "code",
   "execution_count": 25,
   "id": "8d6c779f",
   "metadata": {},
   "outputs": [],
   "source": [
    "#Merging and Joining DataFrames\n",
    "# Load employees and salaries again\n",
    "employees = pd.read_csv('employees.csv')\n",
    "salaries = pd.read_csv('salaries.csv')\n",
    "departments = pd.read_csv('departments.csv')"
   ]
  },
  {
   "cell_type": "code",
   "execution_count": 26,
   "id": "178103cf",
   "metadata": {},
   "outputs": [
    {
     "name": "stdout",
     "output_type": "stream",
     "text": [
      "   EmpID     Name     Dept  Salary   Bonus     Tax\n",
      "0      1    Alice       HR   50000  5000.0  3000.0\n",
      "1      2      Bob       IT   60000     NaN  2500.0\n",
      "2      3  Charlie       HR   55000  4000.0  2000.0\n",
      "3      4    David  Finance   65000  6000.0     NaN\n",
      "4      5      Eva       IT   62000  5000.0  3000.0\n"
     ]
    }
   ],
   "source": [
    "# 22. Merge employee and salary data on EmpID\n",
    "merged_df = pd.merge(employees, salaries, on='EmpID')\n",
    "print(merged_df)"
   ]
  },
  {
   "cell_type": "code",
   "execution_count": 27,
   "id": "dc73424b",
   "metadata": {},
   "outputs": [
    {
     "name": "stdout",
     "output_type": "stream",
     "text": [
      "   EmpID     Name     Dept  Salary   Bonus     Tax\n",
      "0      1    Alice       HR   50000  5000.0  3000.0\n",
      "1      2      Bob       IT   60000     NaN  2500.0\n",
      "2      3  Charlie       HR   55000  4000.0  2000.0\n",
      "3      4    David  Finance   65000  6000.0     NaN\n",
      "4      5      Eva       IT   62000  5000.0  3000.0\n"
     ]
    }
   ],
   "source": [
    "# 23. Inner join (default)\n",
    "print(pd.merge(employees, salaries, on='EmpID', how='inner'))"
   ]
  },
  {
   "cell_type": "code",
   "execution_count": 28,
   "id": "645164a2",
   "metadata": {},
   "outputs": [
    {
     "name": "stdout",
     "output_type": "stream",
     "text": [
      "   EmpID     Name     Dept  Salary   Bonus     Tax\n",
      "0      1    Alice       HR   50000  5000.0  3000.0\n",
      "1      2      Bob       IT   60000     NaN  2500.0\n",
      "2      3  Charlie       HR   55000  4000.0  2000.0\n",
      "3      4    David  Finance   65000  6000.0     NaN\n",
      "4      5      Eva       IT   62000  5000.0  3000.0\n"
     ]
    }
   ],
   "source": [
    "# 24. Left join\n",
    "print(pd.merge(employees, salaries, on='EmpID', how='left'))"
   ]
  },
  {
   "cell_type": "code",
   "execution_count": 29,
   "id": "e1f05979",
   "metadata": {},
   "outputs": [
    {
     "name": "stdout",
     "output_type": "stream",
     "text": [
      "   EmpID     Name     Dept  Salary   Bonus     Tax\n",
      "0      1    Alice       HR   50000  5000.0  3000.0\n",
      "1      2      Bob       IT   60000     NaN  2500.0\n",
      "2      3  Charlie       HR   55000  4000.0  2000.0\n",
      "3      4    David  Finance   65000  6000.0     NaN\n",
      "4      5      Eva       IT   62000  5000.0  3000.0\n"
     ]
    }
   ],
   "source": [
    "# 25. Right join\n",
    "print(pd.merge(employees, salaries, on='EmpID', how='right'))"
   ]
  },
  {
   "cell_type": "code",
   "execution_count": 30,
   "id": "5eeefb81",
   "metadata": {},
   "outputs": [
    {
     "name": "stdout",
     "output_type": "stream",
     "text": [
      "   EmpID     Name     Dept  Salary  DeptID       Location\n",
      "0      1    Alice       HR   50000       1       New York\n",
      "1      2      Bob       IT   60000       2  San Francisco\n",
      "2      3  Charlie       HR   55000       1       New York\n",
      "3      4    David  Finance   65000       3        Chicago\n",
      "4      5      Eva       IT   62000       2  San Francisco\n"
     ]
    }
   ],
   "source": [
    "# 27. Merge with different column names\n",
    "departments.rename(columns={'DeptName': 'Dept'}, inplace=True)\n",
    "merged_with_dept = pd.merge(employees, departments, on='Dept')\n",
    "print(merged_with_dept)"
   ]
  },
  {
   "cell_type": "code",
   "execution_count": 31,
   "id": "062fbffc",
   "metadata": {},
   "outputs": [
    {
     "name": "stdout",
     "output_type": "stream",
     "text": [
      "   EmpID   Bonus  Tax_old  Bonus_copy  Tax_new\n",
      "0      1  5000.0   3000.0      5000.0   3000.0\n",
      "1      2     NaN   2500.0         NaN   2500.0\n",
      "2      3  4000.0   2000.0      4000.0   2000.0\n",
      "3      4  6000.0      NaN      6000.0      NaN\n",
      "4      5  5000.0   3000.0      5000.0   3000.0\n"
     ]
    }
   ],
   "source": [
    "# 28. Merge with suffixes\n",
    "salaries_copy = salaries.copy()\n",
    "salaries_copy.rename(columns={'Bonus': 'Bonus_copy'}, inplace=True)\n",
    "print(pd.merge(salaries, salaries_copy, on='EmpID', suffixes=('_old', '_new')))\n"
   ]
  },
  {
   "cell_type": "code",
   "execution_count": 32,
   "id": "42d6a96b",
   "metadata": {},
   "outputs": [
    {
     "name": "stdout",
     "output_type": "stream",
     "text": [
      "          Name     Dept  Salary   Bonus     Tax\n",
      "EmpID                                          \n",
      "1        Alice       HR   50000  5000.0  3000.0\n",
      "2          Bob       IT   60000     NaN  2500.0\n",
      "3      Charlie       HR   55000  4000.0  2000.0\n",
      "4        David  Finance   65000  6000.0     NaN\n",
      "5          Eva       IT   62000  5000.0  3000.0\n"
     ]
    }
   ],
   "source": [
    "# 29. Join using index\n",
    "salaries.set_index('EmpID', inplace=True)\n",
    "employees.set_index('EmpID', inplace=True)\n",
    "print(employees.join(salaries))"
   ]
  },
  {
   "cell_type": "code",
   "execution_count": 33,
   "id": "4d37744a",
   "metadata": {},
   "outputs": [
    {
     "name": "stdout",
     "output_type": "stream",
     "text": [
      "   EmpID     Name     Dept  Salary   Bonus     Tax\n",
      "0      1    Alice       HR   50000  5000.0  3000.0\n",
      "1      2      Bob       IT   60000     NaN  2500.0\n",
      "2      3  Charlie       HR   55000  4000.0  2000.0\n",
      "3      4    David  Finance   65000  6000.0     NaN\n",
      "4      5      Eva       IT   62000  5000.0  3000.0\n"
     ]
    }
   ],
   "source": [
    "# 30. Reset index after join\n",
    "joined_df = employees.join(salaries).reset_index()\n",
    "print(joined_df)"
   ]
  },
  {
   "cell_type": "code",
   "execution_count": null,
   "id": "65b97d83",
   "metadata": {},
   "outputs": [],
   "source": []
  }
 ],
 "metadata": {
  "kernelspec": {
   "display_name": "rag_venv",
   "language": "python",
   "name": "python3"
  },
  "language_info": {
   "codemirror_mode": {
    "name": "ipython",
    "version": 3
   },
   "file_extension": ".py",
   "mimetype": "text/x-python",
   "name": "python",
   "nbconvert_exporter": "python",
   "pygments_lexer": "ipython3",
   "version": "3.11.5"
  }
 },
 "nbformat": 4,
 "nbformat_minor": 5
}
