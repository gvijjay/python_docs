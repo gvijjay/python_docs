{
 "cells": [
  {
   "cell_type": "code",
   "execution_count": 1,
   "id": "f34467ce",
   "metadata": {},
   "outputs": [
    {
     "name": "stdout",
     "output_type": "stream",
     "text": [
      "Hello from a function\n"
     ]
    }
   ],
   "source": [
    "#Functions and Object-Oriented Programming (OOP)\n",
    "# ------------------------------------------------------\n",
    "\n",
    "# 1. Defining and Using Functions\n",
    "def greet():\n",
    "    print(\"Hello from a function\")\n",
    "\n",
    "greet()"
   ]
  },
  {
   "cell_type": "code",
   "execution_count": 2,
   "id": "5b84667e",
   "metadata": {},
   "outputs": [
    {
     "name": "stdout",
     "output_type": "stream",
     "text": [
      "Sum: 8\n"
     ]
    }
   ],
   "source": [
    "# 2. Parameters and Return Values\n",
    "def add(a, b):\n",
    "    return a + b\n",
    "\n",
    "result = add(3, 5)\n",
    "print(\"Sum:\", result)"
   ]
  },
  {
   "cell_type": "code",
   "execution_count": 3,
   "id": "c6e7c9a1",
   "metadata": {},
   "outputs": [
    {
     "name": "stdout",
     "output_type": "stream",
     "text": [
      "Hello, Alice!\n",
      "Hello, Guest!\n"
     ]
    }
   ],
   "source": [
    "# 3. Default and Keyword Arguments\n",
    "def greet_user(name=\"Guest\"):\n",
    "    print(f\"Hello, {name}!\")\n",
    "\n",
    "greet_user(\"Alice\")\n",
    "greet_user()"
   ]
  },
  {
   "cell_type": "code",
   "execution_count": 4,
   "id": "6dd90191",
   "metadata": {},
   "outputs": [
    {
     "name": "stdout",
     "output_type": "stream",
     "text": [
      "Arguments: (1, 2, 3)\n"
     ]
    }
   ],
   "source": [
    "# 4. Variable Number of Arguments\n",
    "def show_args(*args):\n",
    "    print(\"Arguments:\", args)\n",
    "\n",
    "show_args(1, 2, 3)"
   ]
  },
  {
   "cell_type": "code",
   "execution_count": 5,
   "id": "5dfe8cb0",
   "metadata": {},
   "outputs": [
    {
     "name": "stdout",
     "output_type": "stream",
     "text": [
      "Keyword Arguments: {'name': 'Alice', 'age': 30}\n"
     ]
    }
   ],
   "source": [
    "def show_kwargs(**kwargs):\n",
    "    print(\"Keyword Arguments:\", kwargs)\n",
    "\n",
    "show_kwargs(name=\"Alice\", age=30)"
   ]
  },
  {
   "cell_type": "code",
   "execution_count": 6,
   "id": "8c7ee911",
   "metadata": {},
   "outputs": [
    {
     "name": "stdout",
     "output_type": "stream",
     "text": [
      "Hi, I am Alice and I am 25 years old.\n",
      "Hi, I am Bob and I am 30 years old.\n"
     ]
    }
   ],
   "source": [
    "# 5. Basics of OOP\n",
    "class Person:\n",
    "    def __init__(self, name, age):\n",
    "        self.name = name\n",
    "        self.age = age\n",
    "\n",
    "    def greet(self):\n",
    "        print(f\"Hi, I am {self.name} and I am {self.age} years old.\")\n",
    "\n",
    "p1 = Person(\"Alice\", 25)\n",
    "p2 = Person(\"Bob\", 30)\n",
    "\n",
    "p1.greet()\n",
    "p2.greet()\n"
   ]
  },
  {
   "cell_type": "code",
   "execution_count": 7,
   "id": "d158a331",
   "metadata": {},
   "outputs": [
    {
     "name": "stdout",
     "output_type": "stream",
     "text": [
      "Buddy says Woof!\n",
      "Rocky says Woof!\n",
      "Canine\n"
     ]
    }
   ],
   "source": [
    "# 6. Instance vs Class Variables\n",
    "class Dog:\n",
    "    species = \"Canine\"\n",
    "\n",
    "    def __init__(self, name):\n",
    "        self.name = name\n",
    "\n",
    "    def speak(self):\n",
    "        print(f\"{self.name} says Woof!\")\n",
    "\n",
    "buddy = Dog(\"Buddy\")\n",
    "rocky = Dog(\"Rocky\")\n",
    "\n",
    "buddy.speak()\n",
    "rocky.speak()\n",
    "print(buddy.species)"
   ]
  },
  {
   "cell_type": "code",
   "execution_count": 8,
   "id": "496e6653",
   "metadata": {},
   "outputs": [
    {
     "name": "stdout",
     "output_type": "stream",
     "text": [
      "Whiskers says Meow\n"
     ]
    }
   ],
   "source": [
    "# 7. Inheritance\n",
    "class Animal:\n",
    "    def __init__(self, name):\n",
    "        self.name = name\n",
    "\n",
    "    def speak(self):\n",
    "        print(f\"{self.name} makes a sound\")\n",
    "\n",
    "class Cat(Animal):\n",
    "    def speak(self):\n",
    "        print(f\"{self.name} says Meow\")\n",
    "\n",
    "cat = Cat(\"Whiskers\")\n",
    "cat.speak()"
   ]
  },
  {
   "cell_type": "code",
   "execution_count": 9,
   "id": "0d53dd34",
   "metadata": {},
   "outputs": [
    {
     "name": "stdout",
     "output_type": "stream",
     "text": [
      "Vehicle is moving\n",
      "Car is driving\n"
     ]
    }
   ],
   "source": [
    "# 8. Method Overriding\n",
    "class Vehicle:\n",
    "    def move(self):\n",
    "        print(\"Vehicle is moving\")\n",
    "\n",
    "class Car(Vehicle):\n",
    "    def move(self):\n",
    "        print(\"Car is driving\")\n",
    "\n",
    "v = Vehicle()\n",
    "c = Car()\n",
    "v.move()\n",
    "c.move()"
   ]
  },
  {
   "cell_type": "code",
   "execution_count": 10,
   "id": "15b353d7",
   "metadata": {},
   "outputs": [
    {
     "name": "stdout",
     "output_type": "stream",
     "text": [
      "Engine started\n",
      "Car is moving\n"
     ]
    }
   ],
   "source": [
    "# 9. Multiple Classes Working Together\n",
    "class Engine:\n",
    "    def start(self):\n",
    "        print(\"Engine started\")\n",
    "\n",
    "class Car:\n",
    "    def __init__(self):\n",
    "        self.engine = Engine()\n",
    "\n",
    "    def drive(self):\n",
    "        self.engine.start()\n",
    "        print(\"Car is moving\")\n",
    "\n",
    "car = Car()\n",
    "car.drive()"
   ]
  },
  {
   "cell_type": "code",
   "execution_count": 11,
   "id": "433b2cfd",
   "metadata": {},
   "outputs": [
    {
     "name": "stdout",
     "output_type": "stream",
     "text": [
      "Lamp on? True\n",
      "Lamp on? False\n"
     ]
    }
   ],
   "source": [
    "# 10. Object Attributes vs Method\n",
    "class Lamp:\n",
    "    def __init__(self):\n",
    "        self.is_on = False\n",
    "\n",
    "    def switch(self):\n",
    "        self.is_on = not self.is_on\n",
    "        print(\"Lamp on?\", self.is_on)\n",
    "\n",
    "lamp = Lamp()\n",
    "lamp.switch()\n",
    "lamp.switch()"
   ]
  },
  {
   "cell_type": "code",
   "execution_count": null,
   "id": "eaf62741",
   "metadata": {},
   "outputs": [],
   "source": []
  }
 ],
 "metadata": {
  "kernelspec": {
   "display_name": "rag_venv",
   "language": "python",
   "name": "python3"
  },
  "language_info": {
   "codemirror_mode": {
    "name": "ipython",
    "version": 3
   },
   "file_extension": ".py",
   "mimetype": "text/x-python",
   "name": "python",
   "nbconvert_exporter": "python",
   "pygments_lexer": "ipython3",
   "version": "3.11.5"
  }
 },
 "nbformat": 4,
 "nbformat_minor": 5
}
