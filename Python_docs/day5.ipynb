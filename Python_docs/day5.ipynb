{
 "cells": [
  {
   "cell_type": "code",
   "execution_count": 2,
   "id": "07a53ca3",
   "metadata": {},
   "outputs": [
    {
     "name": "stdout",
     "output_type": "stream",
     "text": [
      "5\n",
      "4\n",
      "3\n",
      "2\n",
      "1\n"
     ]
    }
   ],
   "source": [
    "# Day 5: Recursion and Algorithmic Thinking\n",
    "# -----------------------------------------\n",
    "\n",
    "# 1. Basic Recursion\n",
    "# Print numbers from n to 1\n",
    "\n",
    "def print_desc(n):\n",
    "    if n == 0:\n",
    "        return\n",
    "    print(n)\n",
    "    print_desc(n - 1)\n",
    "\n",
    "print_desc(5)"
   ]
  },
  {
   "cell_type": "code",
   "execution_count": 3,
   "id": "657142fc",
   "metadata": {},
   "outputs": [
    {
     "name": "stdout",
     "output_type": "stream",
     "text": [
      "1\n",
      "2\n",
      "3\n",
      "4\n",
      "5\n"
     ]
    }
   ],
   "source": [
    "# 2. Print numbers from 1 to n\n",
    "\n",
    "def print_asc(n):\n",
    "    if n == 0:\n",
    "        return\n",
    "    print_asc(n - 1)\n",
    "    print(n)\n",
    "\n",
    "print_asc(5)\n"
   ]
  },
  {
   "cell_type": "code",
   "execution_count": 4,
   "id": "2236b9ac",
   "metadata": {},
   "outputs": [
    {
     "name": "stdout",
     "output_type": "stream",
     "text": [
      "Factorial: 120\n"
     ]
    }
   ],
   "source": [
    "# 3. Factorial\n",
    "\n",
    "def factorial(n):\n",
    "    if n == 0:\n",
    "        return 1\n",
    "    return n * factorial(n - 1)\n",
    "\n",
    "print(\"Factorial:\", factorial(5))"
   ]
  },
  {
   "cell_type": "code",
   "execution_count": 5,
   "id": "70216d4c",
   "metadata": {},
   "outputs": [
    {
     "name": "stdout",
     "output_type": "stream",
     "text": [
      "Fibonacci(5): 5\n"
     ]
    }
   ],
   "source": [
    "# 4. Fibonacci (recursive)\n",
    "\n",
    "def fibonacci(n):\n",
    "    if n <= 1:\n",
    "        return n\n",
    "    return fibonacci(n - 1) + fibonacci(n - 2)\n",
    "\n",
    "print(\"Fibonacci(5):\", fibonacci(5))"
   ]
  },
  {
   "cell_type": "code",
   "execution_count": 6,
   "id": "34d3c318",
   "metadata": {},
   "outputs": [
    {
     "name": "stdout",
     "output_type": "stream",
     "text": [
      "Sum of first 5 numbers: 15\n"
     ]
    }
   ],
   "source": [
    "# 5. Sum of first n numbers\n",
    "\n",
    "def sum_n(n):\n",
    "    if n == 0:\n",
    "        return 0\n",
    "    return n + sum_n(n - 1)\n",
    "\n",
    "print(\"Sum of first 5 numbers:\", sum_n(5))"
   ]
  },
  {
   "cell_type": "code",
   "execution_count": 7,
   "id": "c7045b99",
   "metadata": {},
   "outputs": [
    {
     "name": "stdout",
     "output_type": "stream",
     "text": [
      "2^3 = 8\n"
     ]
    }
   ],
   "source": [
    "# 6. Power (x^n)\n",
    "\n",
    "def power(x, n):\n",
    "    if n == 0:\n",
    "        return 1\n",
    "    return x * power(x, n - 1)\n",
    "\n",
    "print(\"2^3 =\", power(2, 3))"
   ]
  },
  {
   "cell_type": "code",
   "execution_count": 8,
   "id": "54b7cf2f",
   "metadata": {},
   "outputs": [
    {
     "name": "stdout",
     "output_type": "stream",
     "text": [
      "Reversed: olleh\n"
     ]
    }
   ],
   "source": [
    "# 7. Reverse a string using recursion\n",
    "\n",
    "def reverse_string(s):\n",
    "    if len(s) <= 1:\n",
    "        return s\n",
    "    return reverse_string(s[1:]) + s[0]\n",
    "\n",
    "print(\"Reversed:\", reverse_string(\"hello\"))\n"
   ]
  },
  {
   "cell_type": "code",
   "execution_count": 9,
   "id": "9be46218",
   "metadata": {},
   "outputs": [
    {
     "name": "stdout",
     "output_type": "stream",
     "text": [
      "Is 'madam' a palindrome? True\n"
     ]
    }
   ],
   "source": [
    "# 8. Check palindrome\n",
    "\n",
    "def is_palindrome(s):\n",
    "    if len(s) <= 1:\n",
    "        return True\n",
    "    if s[0] != s[-1]:\n",
    "        return False\n",
    "    return is_palindrome(s[1:-1])\n",
    "\n",
    "print(\"Is 'madam' a palindrome?\", is_palindrome(\"madam\"))"
   ]
  },
  {
   "cell_type": "code",
   "execution_count": 11,
   "id": "473190c8",
   "metadata": {},
   "outputs": [
    {
     "name": "stdout",
     "output_type": "stream",
     "text": [
      "Move disk 1 from A to C\n",
      "Move disk 2 from A to B\n",
      "Move disk 1 from C to B\n",
      "Move disk 3 from A to C\n",
      "Move disk 1 from B to A\n",
      "Move disk 2 from B to C\n",
      "Move disk 1 from A to C\n"
     ]
    }
   ],
   "source": [
    "# 9. Tower of Hanoi\n",
    "\n",
    "def tower_of_hanoi(n, source, target, auxiliary):\n",
    "    if n == 1:\n",
    "        print(f\"Move disk 1 from {source} to {target}\")\n",
    "        return\n",
    "    tower_of_hanoi(n - 1, source, auxiliary, target)\n",
    "    print(f\"Move disk {n} from {source} to {target}\")\n",
    "    tower_of_hanoi(n - 1, auxiliary, target, source)\n",
    "    \n",
    "tower_of_hanoi(3, 'A', 'C', 'B')"
   ]
  },
  {
   "cell_type": "code",
   "execution_count": 12,
   "id": "eff30ade",
   "metadata": {},
   "outputs": [
    {
     "name": "stdout",
     "output_type": "stream",
     "text": [
      "Max value: 9\n"
     ]
    }
   ],
   "source": [
    "# 10. Find max in a list recursively\n",
    "\n",
    "def find_max(lst):\n",
    "    if len(lst) == 1:\n",
    "        return lst[0]\n",
    "    rest_max = find_max(lst[1:])\n",
    "    return lst[0] if lst[0] > rest_max else rest_max\n",
    "\n",
    "print(\"Max value:\", find_max([3, 7, 2, 9, 4]))"
   ]
  },
  {
   "cell_type": "code",
   "execution_count": 13,
   "id": "b1a66142",
   "metadata": {},
   "outputs": [
    {
     "name": "stdout",
     "output_type": "stream",
     "text": [
      "Digits in 12345: 5\n"
     ]
    }
   ],
   "source": [
    "# 11. Count digits of a number\n",
    "\n",
    "def count_digits(n):\n",
    "    if n == 0:\n",
    "        return 0\n",
    "    return 1 + count_digits(n // 10)\n",
    "\n",
    "print(\"Digits in 12345:\", count_digits(12345))"
   ]
  },
  {
   "cell_type": "code",
   "execution_count": 16,
   "id": "a085c712",
   "metadata": {},
   "outputs": [
    {
     "name": "stdout",
     "output_type": "stream",
     "text": [
      "Factorial of 0: 1\n",
      "Fibonacci of 0: 0\n",
      "Reverse empty: \n",
      "Sum 0: 0\n"
     ]
    }
   ],
   "source": [
    "\n",
    "# 13. Edge Case Handling\n",
    "print(\"Factorial of 0:\", factorial(0))\n",
    "print(\"Fibonacci of 0:\", fibonacci(0))\n",
    "print(\"Reverse empty:\", reverse_string(\"\"))\n",
    "print(\"Sum 0:\", sum_n(0))\n"
   ]
  },
  {
   "cell_type": "code",
   "execution_count": 15,
   "id": "06d8da5a",
   "metadata": {},
   "outputs": [],
   "source": [
    "# 12. Complexity Intro (Demonstration Only)\n",
    "# ----------------------------------------\n",
    "# Time Complexity:\n",
    "# factorial(n)        -> O(n)\n",
    "# fibonacci(n)        -> O(2^n) (exponential, without memoization)\n",
    "# sum_n(n)            -> O(n)\n",
    "# power(x, n)         -> O(n)\n",
    "# reverse_string(s)   -> O(n^2) because slicing takes O(n)\n",
    "# tower_of_hanoi(n)   -> O(2^n)\n",
    "# count_digits(n)     -> O(log n)\n",
    "\n",
    "# Space Complexity:\n",
    "# Depends on recursion depth due to call stack usage:\n",
    "# factorial(n)        -> O(n)\n",
    "# fibonacci(n)        -> O(n) max depth, plus recomputation\n",
    "# reverse_string(s)   -> O(n^2) inefficient slicing"
   ]
  },
  {
   "cell_type": "code",
   "execution_count": null,
   "id": "4a4c68f9",
   "metadata": {},
   "outputs": [],
   "source": []
  }
 ],
 "metadata": {
  "kernelspec": {
   "display_name": "rag_venv",
   "language": "python",
   "name": "python3"
  },
  "language_info": {
   "codemirror_mode": {
    "name": "ipython",
    "version": 3
   },
   "file_extension": ".py",
   "mimetype": "text/x-python",
   "name": "python",
   "nbconvert_exporter": "python",
   "pygments_lexer": "ipython3",
   "version": "3.11.5"
  }
 },
 "nbformat": 4,
 "nbformat_minor": 5
}
